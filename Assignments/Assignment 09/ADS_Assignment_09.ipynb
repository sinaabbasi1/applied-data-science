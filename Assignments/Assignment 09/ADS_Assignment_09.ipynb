{
  "nbformat": 4,
  "nbformat_minor": 0,
  "metadata": {
    "colab": {
      "provenance": [],
      "toc_visible": true,
      "authorship_tag": "ABX9TyPsKktqhkIWbarJB5PniFeH",
      "include_colab_link": true
    },
    "kernelspec": {
      "name": "python3",
      "display_name": "Python 3"
    },
    "language_info": {
      "name": "python"
    },
    "accelerator": "GPU",
    "gpuClass": "standard"
  },
  "cells": [
    {
      "cell_type": "markdown",
      "metadata": {
        "id": "view-in-github",
        "colab_type": "text"
      },
      "source": [
        "<a href=\"https://colab.research.google.com/github/sinaabbasi1/applied-data-science/blob/main/Assignments/Assignment%2009/ADS_Assignment_09.ipynb\" target=\"_parent\"><img src=\"https://colab.research.google.com/assets/colab-badge.svg\" alt=\"Open In Colab\"/></a>"
      ]
    },
    {
      "cell_type": "markdown",
      "metadata": {
        "id": "-iqvvPHa77UR"
      },
      "source": [
        "# Regression"
      ]
    },
    {
      "cell_type": "markdown",
      "metadata": {
        "id": "8MDmKkUY8Efd"
      },
      "source": [
        "\n",
        "## About Dataset\n",
        "\n",
        "This dataset shows us insurance costs and some of parameters that possibly affect on that\n",
        "\n",
        "### Columns\n",
        "\n",
        "age: age of primary beneficiary\n",
        "\n",
        "sex: insurance contractor gender, female, male\n",
        "\n",
        "bmi: Body mass index, providing an understanding of body, weights that are relatively high or low relative to height,\n",
        "objective index of body weight (kg / m ^ 2) using the ratio of height to weight, ideally 18.5 to 24.9\n",
        "\n",
        "children: Number of children covered by health insurance / Number of dependents\n",
        "\n",
        "smoker: Smoking\n",
        "\n",
        "region: the beneficiary's residential area in the US, northeast, southeast, southwest, northwest.\n",
        "\n",
        "charges: Individual medical costs billed by health insurance"
      ]
    },
    {
      "cell_type": "markdown",
      "metadata": {
        "id": "zBtm3pde8lrI"
      },
      "source": [
        "## Loading the dataset and Import Required Libraries"
      ]
    },
    {
      "cell_type": "code",
      "execution_count": null,
      "metadata": {
        "id": "iYwn4H6R70H-"
      },
      "outputs": [],
      "source": [
        "import matplotlib.pyplot as plt\n",
        "import numpy as np\n",
        "import pandas as pd\n",
        "from matplotlib.ticker import PercentFormatter\n",
        "import os\n",
        "import seaborn as sns"
      ]
    },
    {
      "cell_type": "code",
      "execution_count": null,
      "metadata": {
        "id": "mDx_L6Lq85i1",
        "colab": {
          "base_uri": "https://localhost:8080/"
        },
        "outputId": "f892830d-86e6-4a51-df01-ac43da4cacb6"
      },
      "outputs": [
        {
          "output_type": "stream",
          "name": "stdout",
          "text": [
            "Mounted at /content/gdrive\n"
          ]
        }
      ],
      "source": [
        "from google.colab import drive\n",
        "drive.mount('/content/gdrive')"
      ]
    },
    {
      "cell_type": "code",
      "execution_count": null,
      "metadata": {
        "id": "0JkFv3w4893I"
      },
      "outputs": [],
      "source": [
        "os.environ['KAGGLE_CONFIG_DIR'] = \"/content/gdrive/My Drive/Kaggle\""
      ]
    },
    {
      "cell_type": "code",
      "execution_count": null,
      "metadata": {
        "id": "q0ukIdiP9KDr",
        "colab": {
          "base_uri": "https://localhost:8080/"
        },
        "outputId": "f74f90e1-06cc-428c-e26c-c37b14a73521"
      },
      "outputs": [
        {
          "output_type": "stream",
          "name": "stdout",
          "text": [
            "Downloading insurance.zip to /content\n",
            "\r  0% 0.00/16.0k [00:00<?, ?B/s]\n",
            "\r100% 16.0k/16.0k [00:00<00:00, 9.67MB/s]\n"
          ]
        }
      ],
      "source": [
        "! kaggle datasets download -d mirichoi0218/insurance"
      ]
    },
    {
      "cell_type": "code",
      "execution_count": null,
      "metadata": {
        "id": "yQ5QAA_Z9OOe",
        "colab": {
          "base_uri": "https://localhost:8080/"
        },
        "outputId": "74ee2905-9595-4f19-8da2-e046d451928d"
      },
      "outputs": [
        {
          "output_type": "stream",
          "name": "stdout",
          "text": [
            "Archive:  insurance.zip\n",
            "  inflating: insurance.csv           \n"
          ]
        }
      ],
      "source": [
        "!unzip \\*.zip && rm *.zip"
      ]
    },
    {
      "cell_type": "code",
      "execution_count": null,
      "metadata": {
        "id": "nli7Uxnz9Q6t"
      },
      "outputs": [],
      "source": [
        "df = pd.read_csv('insurance.csv')"
      ]
    },
    {
      "cell_type": "code",
      "execution_count": null,
      "metadata": {
        "id": "tEfp7ucV9w4W",
        "colab": {
          "base_uri": "https://localhost:8080/"
        },
        "outputId": "0dbfe626-c1f5-4979-8a8c-2c51d8f28361"
      },
      "outputs": [
        {
          "output_type": "execute_result",
          "data": {
            "text/plain": [
              "(1338, 7)"
            ]
          },
          "metadata": {},
          "execution_count": 8
        }
      ],
      "source": [
        "df.shape"
      ]
    },
    {
      "cell_type": "code",
      "execution_count": null,
      "metadata": {
        "id": "GKGBwRst9ZNN",
        "colab": {
          "base_uri": "https://localhost:8080/",
          "height": 206
        },
        "outputId": "c5a2a84d-ef8d-44e5-ed8c-ef212cd1fd5c"
      },
      "outputs": [
        {
          "output_type": "execute_result",
          "data": {
            "text/plain": [
              "   age     sex     bmi  children smoker     region      charges\n",
              "0   19  female  27.900         0    yes  southwest  16884.92400\n",
              "1   18    male  33.770         1     no  southeast   1725.55230\n",
              "2   28    male  33.000         3     no  southeast   4449.46200\n",
              "3   33    male  22.705         0     no  northwest  21984.47061\n",
              "4   32    male  28.880         0     no  northwest   3866.85520"
            ],
            "text/html": [
              "\n",
              "  <div id=\"df-902de4ab-857f-4177-979e-59c1a096fed7\">\n",
              "    <div class=\"colab-df-container\">\n",
              "      <div>\n",
              "<style scoped>\n",
              "    .dataframe tbody tr th:only-of-type {\n",
              "        vertical-align: middle;\n",
              "    }\n",
              "\n",
              "    .dataframe tbody tr th {\n",
              "        vertical-align: top;\n",
              "    }\n",
              "\n",
              "    .dataframe thead th {\n",
              "        text-align: right;\n",
              "    }\n",
              "</style>\n",
              "<table border=\"1\" class=\"dataframe\">\n",
              "  <thead>\n",
              "    <tr style=\"text-align: right;\">\n",
              "      <th></th>\n",
              "      <th>age</th>\n",
              "      <th>sex</th>\n",
              "      <th>bmi</th>\n",
              "      <th>children</th>\n",
              "      <th>smoker</th>\n",
              "      <th>region</th>\n",
              "      <th>charges</th>\n",
              "    </tr>\n",
              "  </thead>\n",
              "  <tbody>\n",
              "    <tr>\n",
              "      <th>0</th>\n",
              "      <td>19</td>\n",
              "      <td>female</td>\n",
              "      <td>27.900</td>\n",
              "      <td>0</td>\n",
              "      <td>yes</td>\n",
              "      <td>southwest</td>\n",
              "      <td>16884.92400</td>\n",
              "    </tr>\n",
              "    <tr>\n",
              "      <th>1</th>\n",
              "      <td>18</td>\n",
              "      <td>male</td>\n",
              "      <td>33.770</td>\n",
              "      <td>1</td>\n",
              "      <td>no</td>\n",
              "      <td>southeast</td>\n",
              "      <td>1725.55230</td>\n",
              "    </tr>\n",
              "    <tr>\n",
              "      <th>2</th>\n",
              "      <td>28</td>\n",
              "      <td>male</td>\n",
              "      <td>33.000</td>\n",
              "      <td>3</td>\n",
              "      <td>no</td>\n",
              "      <td>southeast</td>\n",
              "      <td>4449.46200</td>\n",
              "    </tr>\n",
              "    <tr>\n",
              "      <th>3</th>\n",
              "      <td>33</td>\n",
              "      <td>male</td>\n",
              "      <td>22.705</td>\n",
              "      <td>0</td>\n",
              "      <td>no</td>\n",
              "      <td>northwest</td>\n",
              "      <td>21984.47061</td>\n",
              "    </tr>\n",
              "    <tr>\n",
              "      <th>4</th>\n",
              "      <td>32</td>\n",
              "      <td>male</td>\n",
              "      <td>28.880</td>\n",
              "      <td>0</td>\n",
              "      <td>no</td>\n",
              "      <td>northwest</td>\n",
              "      <td>3866.85520</td>\n",
              "    </tr>\n",
              "  </tbody>\n",
              "</table>\n",
              "</div>\n",
              "      <button class=\"colab-df-convert\" onclick=\"convertToInteractive('df-902de4ab-857f-4177-979e-59c1a096fed7')\"\n",
              "              title=\"Convert this dataframe to an interactive table.\"\n",
              "              style=\"display:none;\">\n",
              "        \n",
              "  <svg xmlns=\"http://www.w3.org/2000/svg\" height=\"24px\"viewBox=\"0 0 24 24\"\n",
              "       width=\"24px\">\n",
              "    <path d=\"M0 0h24v24H0V0z\" fill=\"none\"/>\n",
              "    <path d=\"M18.56 5.44l.94 2.06.94-2.06 2.06-.94-2.06-.94-.94-2.06-.94 2.06-2.06.94zm-11 1L8.5 8.5l.94-2.06 2.06-.94-2.06-.94L8.5 2.5l-.94 2.06-2.06.94zm10 10l.94 2.06.94-2.06 2.06-.94-2.06-.94-.94-2.06-.94 2.06-2.06.94z\"/><path d=\"M17.41 7.96l-1.37-1.37c-.4-.4-.92-.59-1.43-.59-.52 0-1.04.2-1.43.59L10.3 9.45l-7.72 7.72c-.78.78-.78 2.05 0 2.83L4 21.41c.39.39.9.59 1.41.59.51 0 1.02-.2 1.41-.59l7.78-7.78 2.81-2.81c.8-.78.8-2.07 0-2.86zM5.41 20L4 18.59l7.72-7.72 1.47 1.35L5.41 20z\"/>\n",
              "  </svg>\n",
              "      </button>\n",
              "      \n",
              "  <style>\n",
              "    .colab-df-container {\n",
              "      display:flex;\n",
              "      flex-wrap:wrap;\n",
              "      gap: 12px;\n",
              "    }\n",
              "\n",
              "    .colab-df-convert {\n",
              "      background-color: #E8F0FE;\n",
              "      border: none;\n",
              "      border-radius: 50%;\n",
              "      cursor: pointer;\n",
              "      display: none;\n",
              "      fill: #1967D2;\n",
              "      height: 32px;\n",
              "      padding: 0 0 0 0;\n",
              "      width: 32px;\n",
              "    }\n",
              "\n",
              "    .colab-df-convert:hover {\n",
              "      background-color: #E2EBFA;\n",
              "      box-shadow: 0px 1px 2px rgba(60, 64, 67, 0.3), 0px 1px 3px 1px rgba(60, 64, 67, 0.15);\n",
              "      fill: #174EA6;\n",
              "    }\n",
              "\n",
              "    [theme=dark] .colab-df-convert {\n",
              "      background-color: #3B4455;\n",
              "      fill: #D2E3FC;\n",
              "    }\n",
              "\n",
              "    [theme=dark] .colab-df-convert:hover {\n",
              "      background-color: #434B5C;\n",
              "      box-shadow: 0px 1px 3px 1px rgba(0, 0, 0, 0.15);\n",
              "      filter: drop-shadow(0px 1px 2px rgba(0, 0, 0, 0.3));\n",
              "      fill: #FFFFFF;\n",
              "    }\n",
              "  </style>\n",
              "\n",
              "      <script>\n",
              "        const buttonEl =\n",
              "          document.querySelector('#df-902de4ab-857f-4177-979e-59c1a096fed7 button.colab-df-convert');\n",
              "        buttonEl.style.display =\n",
              "          google.colab.kernel.accessAllowed ? 'block' : 'none';\n",
              "\n",
              "        async function convertToInteractive(key) {\n",
              "          const element = document.querySelector('#df-902de4ab-857f-4177-979e-59c1a096fed7');\n",
              "          const dataTable =\n",
              "            await google.colab.kernel.invokeFunction('convertToInteractive',\n",
              "                                                     [key], {});\n",
              "          if (!dataTable) return;\n",
              "\n",
              "          const docLinkHtml = 'Like what you see? Visit the ' +\n",
              "            '<a target=\"_blank\" href=https://colab.research.google.com/notebooks/data_table.ipynb>data table notebook</a>'\n",
              "            + ' to learn more about interactive tables.';\n",
              "          element.innerHTML = '';\n",
              "          dataTable['output_type'] = 'display_data';\n",
              "          await google.colab.output.renderOutput(dataTable, element);\n",
              "          const docLink = document.createElement('div');\n",
              "          docLink.innerHTML = docLinkHtml;\n",
              "          element.appendChild(docLink);\n",
              "        }\n",
              "      </script>\n",
              "    </div>\n",
              "  </div>\n",
              "  "
            ]
          },
          "metadata": {},
          "execution_count": 9
        }
      ],
      "source": [
        "df.head()"
      ]
    },
    {
      "cell_type": "code",
      "execution_count": null,
      "metadata": {
        "id": "LinGaNeF9cdk",
        "colab": {
          "base_uri": "https://localhost:8080/"
        },
        "outputId": "003e6808-cb29-4495-d220-e3f5c0928ca5"
      },
      "outputs": [
        {
          "output_type": "stream",
          "name": "stdout",
          "text": [
            "<class 'pandas.core.frame.DataFrame'>\n",
            "RangeIndex: 1338 entries, 0 to 1337\n",
            "Data columns (total 7 columns):\n",
            " #   Column    Non-Null Count  Dtype  \n",
            "---  ------    --------------  -----  \n",
            " 0   age       1338 non-null   int64  \n",
            " 1   sex       1338 non-null   object \n",
            " 2   bmi       1338 non-null   float64\n",
            " 3   children  1338 non-null   int64  \n",
            " 4   smoker    1338 non-null   object \n",
            " 5   region    1338 non-null   object \n",
            " 6   charges   1338 non-null   float64\n",
            "dtypes: float64(2), int64(2), object(3)\n",
            "memory usage: 73.3+ KB\n"
          ]
        }
      ],
      "source": [
        "df.info()"
      ]
    },
    {
      "cell_type": "code",
      "execution_count": null,
      "metadata": {
        "id": "Bc47kBr59gX8",
        "colab": {
          "base_uri": "https://localhost:8080/",
          "height": 175
        },
        "outputId": "3c3d6266-0c92-4109-a1c6-248e24a9de11"
      },
      "outputs": [
        {
          "output_type": "execute_result",
          "data": {
            "text/plain": [
              "           count          mean           std        min         25%       50%  \\\n",
              "age       1338.0     39.207025     14.049960    18.0000    27.00000    39.000   \n",
              "bmi       1338.0     30.663397      6.098187    15.9600    26.29625    30.400   \n",
              "children  1338.0      1.094918      1.205493     0.0000     0.00000     1.000   \n",
              "charges   1338.0  13270.422265  12110.011237  1121.8739  4740.28715  9382.033   \n",
              "\n",
              "                   75%          max  \n",
              "age          51.000000     64.00000  \n",
              "bmi          34.693750     53.13000  \n",
              "children      2.000000      5.00000  \n",
              "charges   16639.912515  63770.42801  "
            ],
            "text/html": [
              "\n",
              "  <div id=\"df-a9bcf4b1-7d54-4421-a7b4-19253a0655d4\">\n",
              "    <div class=\"colab-df-container\">\n",
              "      <div>\n",
              "<style scoped>\n",
              "    .dataframe tbody tr th:only-of-type {\n",
              "        vertical-align: middle;\n",
              "    }\n",
              "\n",
              "    .dataframe tbody tr th {\n",
              "        vertical-align: top;\n",
              "    }\n",
              "\n",
              "    .dataframe thead th {\n",
              "        text-align: right;\n",
              "    }\n",
              "</style>\n",
              "<table border=\"1\" class=\"dataframe\">\n",
              "  <thead>\n",
              "    <tr style=\"text-align: right;\">\n",
              "      <th></th>\n",
              "      <th>count</th>\n",
              "      <th>mean</th>\n",
              "      <th>std</th>\n",
              "      <th>min</th>\n",
              "      <th>25%</th>\n",
              "      <th>50%</th>\n",
              "      <th>75%</th>\n",
              "      <th>max</th>\n",
              "    </tr>\n",
              "  </thead>\n",
              "  <tbody>\n",
              "    <tr>\n",
              "      <th>age</th>\n",
              "      <td>1338.0</td>\n",
              "      <td>39.207025</td>\n",
              "      <td>14.049960</td>\n",
              "      <td>18.0000</td>\n",
              "      <td>27.00000</td>\n",
              "      <td>39.000</td>\n",
              "      <td>51.000000</td>\n",
              "      <td>64.00000</td>\n",
              "    </tr>\n",
              "    <tr>\n",
              "      <th>bmi</th>\n",
              "      <td>1338.0</td>\n",
              "      <td>30.663397</td>\n",
              "      <td>6.098187</td>\n",
              "      <td>15.9600</td>\n",
              "      <td>26.29625</td>\n",
              "      <td>30.400</td>\n",
              "      <td>34.693750</td>\n",
              "      <td>53.13000</td>\n",
              "    </tr>\n",
              "    <tr>\n",
              "      <th>children</th>\n",
              "      <td>1338.0</td>\n",
              "      <td>1.094918</td>\n",
              "      <td>1.205493</td>\n",
              "      <td>0.0000</td>\n",
              "      <td>0.00000</td>\n",
              "      <td>1.000</td>\n",
              "      <td>2.000000</td>\n",
              "      <td>5.00000</td>\n",
              "    </tr>\n",
              "    <tr>\n",
              "      <th>charges</th>\n",
              "      <td>1338.0</td>\n",
              "      <td>13270.422265</td>\n",
              "      <td>12110.011237</td>\n",
              "      <td>1121.8739</td>\n",
              "      <td>4740.28715</td>\n",
              "      <td>9382.033</td>\n",
              "      <td>16639.912515</td>\n",
              "      <td>63770.42801</td>\n",
              "    </tr>\n",
              "  </tbody>\n",
              "</table>\n",
              "</div>\n",
              "      <button class=\"colab-df-convert\" onclick=\"convertToInteractive('df-a9bcf4b1-7d54-4421-a7b4-19253a0655d4')\"\n",
              "              title=\"Convert this dataframe to an interactive table.\"\n",
              "              style=\"display:none;\">\n",
              "        \n",
              "  <svg xmlns=\"http://www.w3.org/2000/svg\" height=\"24px\"viewBox=\"0 0 24 24\"\n",
              "       width=\"24px\">\n",
              "    <path d=\"M0 0h24v24H0V0z\" fill=\"none\"/>\n",
              "    <path d=\"M18.56 5.44l.94 2.06.94-2.06 2.06-.94-2.06-.94-.94-2.06-.94 2.06-2.06.94zm-11 1L8.5 8.5l.94-2.06 2.06-.94-2.06-.94L8.5 2.5l-.94 2.06-2.06.94zm10 10l.94 2.06.94-2.06 2.06-.94-2.06-.94-.94-2.06-.94 2.06-2.06.94z\"/><path d=\"M17.41 7.96l-1.37-1.37c-.4-.4-.92-.59-1.43-.59-.52 0-1.04.2-1.43.59L10.3 9.45l-7.72 7.72c-.78.78-.78 2.05 0 2.83L4 21.41c.39.39.9.59 1.41.59.51 0 1.02-.2 1.41-.59l7.78-7.78 2.81-2.81c.8-.78.8-2.07 0-2.86zM5.41 20L4 18.59l7.72-7.72 1.47 1.35L5.41 20z\"/>\n",
              "  </svg>\n",
              "      </button>\n",
              "      \n",
              "  <style>\n",
              "    .colab-df-container {\n",
              "      display:flex;\n",
              "      flex-wrap:wrap;\n",
              "      gap: 12px;\n",
              "    }\n",
              "\n",
              "    .colab-df-convert {\n",
              "      background-color: #E8F0FE;\n",
              "      border: none;\n",
              "      border-radius: 50%;\n",
              "      cursor: pointer;\n",
              "      display: none;\n",
              "      fill: #1967D2;\n",
              "      height: 32px;\n",
              "      padding: 0 0 0 0;\n",
              "      width: 32px;\n",
              "    }\n",
              "\n",
              "    .colab-df-convert:hover {\n",
              "      background-color: #E2EBFA;\n",
              "      box-shadow: 0px 1px 2px rgba(60, 64, 67, 0.3), 0px 1px 3px 1px rgba(60, 64, 67, 0.15);\n",
              "      fill: #174EA6;\n",
              "    }\n",
              "\n",
              "    [theme=dark] .colab-df-convert {\n",
              "      background-color: #3B4455;\n",
              "      fill: #D2E3FC;\n",
              "    }\n",
              "\n",
              "    [theme=dark] .colab-df-convert:hover {\n",
              "      background-color: #434B5C;\n",
              "      box-shadow: 0px 1px 3px 1px rgba(0, 0, 0, 0.15);\n",
              "      filter: drop-shadow(0px 1px 2px rgba(0, 0, 0, 0.3));\n",
              "      fill: #FFFFFF;\n",
              "    }\n",
              "  </style>\n",
              "\n",
              "      <script>\n",
              "        const buttonEl =\n",
              "          document.querySelector('#df-a9bcf4b1-7d54-4421-a7b4-19253a0655d4 button.colab-df-convert');\n",
              "        buttonEl.style.display =\n",
              "          google.colab.kernel.accessAllowed ? 'block' : 'none';\n",
              "\n",
              "        async function convertToInteractive(key) {\n",
              "          const element = document.querySelector('#df-a9bcf4b1-7d54-4421-a7b4-19253a0655d4');\n",
              "          const dataTable =\n",
              "            await google.colab.kernel.invokeFunction('convertToInteractive',\n",
              "                                                     [key], {});\n",
              "          if (!dataTable) return;\n",
              "\n",
              "          const docLinkHtml = 'Like what you see? Visit the ' +\n",
              "            '<a target=\"_blank\" href=https://colab.research.google.com/notebooks/data_table.ipynb>data table notebook</a>'\n",
              "            + ' to learn more about interactive tables.';\n",
              "          element.innerHTML = '';\n",
              "          dataTable['output_type'] = 'display_data';\n",
              "          await google.colab.output.renderOutput(dataTable, element);\n",
              "          const docLink = document.createElement('div');\n",
              "          docLink.innerHTML = docLinkHtml;\n",
              "          element.appendChild(docLink);\n",
              "        }\n",
              "      </script>\n",
              "    </div>\n",
              "  </div>\n",
              "  "
            ]
          },
          "metadata": {},
          "execution_count": 11
        }
      ],
      "source": [
        "df.describe().T"
      ]
    },
    {
      "cell_type": "markdown",
      "metadata": {
        "id": "hyS5BdBU91ml"
      },
      "source": [
        "## EDA"
      ]
    },
    {
      "cell_type": "code",
      "execution_count": null,
      "metadata": {
        "id": "ZH9wjkIU9qb_",
        "colab": {
          "base_uri": "https://localhost:8080/",
          "height": 369
        },
        "outputId": "ab46c3d9-238c-4ded-a342-40c97934ef91"
      },
      "outputs": [
        {
          "output_type": "display_data",
          "data": {
            "text/plain": [
              "<Figure size 360x360 with 1 Axes>"
            ],
            "image/png": "[encoded data removed]"
          },
          "metadata": {
            "needs_background": "light"
          }
        }
      ],
      "source": [
        "sns.catplot(x='region', kind='count', palette=\"dark:#5A9_r\", data=df)\n",
        "plt.show()"
      ]
    },
    {
      "cell_type": "code",
      "execution_count": null,
      "metadata": {
        "id": "mdTZG8Tq96cO",
        "colab": {
          "base_uri": "https://localhost:8080/",
          "height": 385
        },
        "outputId": "b058116b-f69f-4a20-c60c-37d22190e805"
      },
      "outputs": [
        {
          "output_type": "display_data",
          "data": {
            "text/plain": [
              "<Figure size 360x360 with 1 Axes>"
            ],
            "image/png": "[encoded data removed]"
          },
          "metadata": {
            "needs_background": "light"
          }
        }
      ],
      "source": [
        "sns.displot((df['age']), kde = True, bins=20, color='g')\n",
        "plt.title('Age Distribution')\n",
        "plt.show()"
      ]
    },
    {
      "cell_type": "code",
      "execution_count": null,
      "metadata": {
        "id": "VOgmAB0M99dw",
        "colab": {
          "base_uri": "https://localhost:8080/",
          "height": 295
        },
        "outputId": "66edde02-1877-494e-f66a-9a10aefeec5b"
      },
      "outputs": [
        {
          "output_type": "display_data",
          "data": {
            "text/plain": [
              "<Figure size 432x288 with 1 Axes>"
            ],
            "image/png": "[encoded data removed]"
          },
          "metadata": {
            "needs_background": "light"
          }
        }
      ],
      "source": [
        "sns.boxplot(x='smoker', y='charges', data=df)\n",
        "plt.title('Insurance cost based on smoker/no smoker')\n",
        "plt.show()"
      ]
    },
    {
      "cell_type": "markdown",
      "metadata": {
        "id": "IQnXlLT5-IGG"
      },
      "source": [
        "There is a non surprising result that shows us, there is major difference between smokers and non smokers in insurance cost"
      ]
    },
    {
      "cell_type": "code",
      "execution_count": null,
      "metadata": {
        "id": "BzcVQjuS-Ago"
      },
      "outputs": [],
      "source": [
        "df = pd.get_dummies(df)\n",
        "df['overweight'] = (df.bmi >= 30).astype(int)\n",
        "df['unhealthy'] = df.smoker_yes * df.overweight"
      ]
    },
    {
      "cell_type": "code",
      "execution_count": null,
      "metadata": {
        "id": "M73MTSNs-WbF",
        "colab": {
          "base_uri": "https://localhost:8080/",
          "height": 270
        },
        "outputId": "afd5c3a4-84e5-453e-e39a-37993bb6bc22"
      },
      "outputs": [
        {
          "output_type": "execute_result",
          "data": {
            "text/plain": [
              "   age     bmi  children      charges  sex_female  sex_male  smoker_no  \\\n",
              "0   19  27.900         0  16884.92400           1         0          0   \n",
              "1   18  33.770         1   1725.55230           0         1          1   \n",
              "2   28  33.000         3   4449.46200           0         1          1   \n",
              "3   33  22.705         0  21984.47061           0         1          1   \n",
              "4   32  28.880         0   3866.85520           0         1          1   \n",
              "\n",
              "   smoker_yes  region_northeast  region_northwest  region_southeast  \\\n",
              "0           1                 0                 0                 0   \n",
              "1           0                 0                 0                 1   \n",
              "2           0                 0                 0                 1   \n",
              "3           0                 0                 1                 0   \n",
              "4           0                 0                 1                 0   \n",
              "\n",
              "   region_southwest  overweight  unhealthy  \n",
              "0                 1           0          0  \n",
              "1                 0           1          0  \n",
              "2                 0           1          0  \n",
              "3                 0           0          0  \n",
              "4                 0           0          0  "
            ],
            "text/html": [
              "\n",
              "  <div id=\"df-6151e645-8948-4b64-917e-93e26c99bebc\">\n",
              "    <div class=\"colab-df-container\">\n",
              "      <div>\n",
              "<style scoped>\n",
              "    .dataframe tbody tr th:only-of-type {\n",
              "        vertical-align: middle;\n",
              "    }\n",
              "\n",
              "    .dataframe tbody tr th {\n",
              "        vertical-align: top;\n",
              "    }\n",
              "\n",
              "    .dataframe thead th {\n",
              "        text-align: right;\n",
              "    }\n",
              "</style>\n",
              "<table border=\"1\" class=\"dataframe\">\n",
              "  <thead>\n",
              "    <tr style=\"text-align: right;\">\n",
              "      <th></th>\n",
              "      <th>age</th>\n",
              "      <th>bmi</th>\n",
              "      <th>children</th>\n",
              "      <th>charges</th>\n",
              "      <th>sex_female</th>\n",
              "      <th>sex_male</th>\n",
              "      <th>smoker_no</th>\n",
              "      <th>smoker_yes</th>\n",
              "      <th>region_northeast</th>\n",
              "      <th>region_northwest</th>\n",
              "      <th>region_southeast</th>\n",
              "      <th>region_southwest</th>\n",
              "      <th>overweight</th>\n",
              "      <th>unhealthy</th>\n",
              "    </tr>\n",
              "  </thead>\n",
              "  <tbody>\n",
              "    <tr>\n",
              "      <th>0</th>\n",
              "      <td>19</td>\n",
              "      <td>27.900</td>\n",
              "      <td>0</td>\n",
              "      <td>16884.92400</td>\n",
              "      <td>1</td>\n",
              "      <td>0</td>\n",
              "      <td>0</td>\n",
              "      <td>1</td>\n",
              "      <td>0</td>\n",
              "      <td>0</td>\n",
              "      <td>0</td>\n",
              "      <td>1</td>\n",
              "      <td>0</td>\n",
              "      <td>0</td>\n",
              "    </tr>\n",
              "    <tr>\n",
              "      <th>1</th>\n",
              "      <td>18</td>\n",
              "      <td>33.770</td>\n",
              "      <td>1</td>\n",
              "      <td>1725.55230</td>\n",
              "      <td>0</td>\n",
              "      <td>1</td>\n",
              "      <td>1</td>\n",
              "      <td>0</td>\n",
              "      <td>0</td>\n",
              "      <td>0</td>\n",
              "      <td>1</td>\n",
              "      <td>0</td>\n",
              "      <td>1</td>\n",
              "      <td>0</td>\n",
              "    </tr>\n",
              "    <tr>\n",
              "      <th>2</th>\n",
              "      <td>28</td>\n",
              "      <td>33.000</td>\n",
              "      <td>3</td>\n",
              "      <td>4449.46200</td>\n",
              "      <td>0</td>\n",
              "      <td>1</td>\n",
              "      <td>1</td>\n",
              "      <td>0</td>\n",
              "      <td>0</td>\n",
              "      <td>0</td>\n",
              "      <td>1</td>\n",
              "      <td>0</td>\n",
              "      <td>1</td>\n",
              "      <td>0</td>\n",
              "    </tr>\n",
              "    <tr>\n",
              "      <th>3</th>\n",
              "      <td>33</td>\n",
              "      <td>22.705</td>\n",
              "      <td>0</td>\n",
              "      <td>21984.47061</td>\n",
              "      <td>0</td>\n",
              "      <td>1</td>\n",
              "      <td>1</td>\n",
              "      <td>0</td>\n",
              "      <td>0</td>\n",
              "      <td>1</td>\n",
              "      <td>0</td>\n",
              "      <td>0</td>\n",
              "      <td>0</td>\n",
              "      <td>0</td>\n",
              "    </tr>\n",
              "    <tr>\n",
              "      <th>4</th>\n",
              "      <td>32</td>\n",
              "      <td>28.880</td>\n",
              "      <td>0</td>\n",
              "      <td>3866.85520</td>\n",
              "      <td>0</td>\n",
              "      <td>1</td>\n",
              "      <td>1</td>\n",
              "      <td>0</td>\n",
              "      <td>0</td>\n",
              "      <td>1</td>\n",
              "      <td>0</td>\n",
              "      <td>0</td>\n",
              "      <td>0</td>\n",
              "      <td>0</td>\n",
              "    </tr>\n",
              "  </tbody>\n",
              "</table>\n",
              "</div>\n",
              "      <button class=\"colab-df-convert\" onclick=\"convertToInteractive('df-6151e645-8948-4b64-917e-93e26c99bebc')\"\n",
              "              title=\"Convert this dataframe to an interactive table.\"\n",
              "              style=\"display:none;\">\n",
              "        \n",
              "  <svg xmlns=\"http://www.w3.org/2000/svg\" height=\"24px\"viewBox=\"0 0 24 24\"\n",
              "       width=\"24px\">\n",
              "    <path d=\"M0 0h24v24H0V0z\" fill=\"none\"/>\n",
              "    <path d=\"M18.56 5.44l.94 2.06.94-2.06 2.06-.94-2.06-.94-.94-2.06-.94 2.06-2.06.94zm-11 1L8.5 8.5l.94-2.06 2.06-.94-2.06-.94L8.5 2.5l-.94 2.06-2.06.94zm10 10l.94 2.06.94-2.06 2.06-.94-2.06-.94-.94-2.06-.94 2.06-2.06.94z\"/><path d=\"M17.41 7.96l-1.37-1.37c-.4-.4-.92-.59-1.43-.59-.52 0-1.04.2-1.43.59L10.3 9.45l-7.72 7.72c-.78.78-.78 2.05 0 2.83L4 21.41c.39.39.9.59 1.41.59.51 0 1.02-.2 1.41-.59l7.78-7.78 2.81-2.81c.8-.78.8-2.07 0-2.86zM5.41 20L4 18.59l7.72-7.72 1.47 1.35L5.41 20z\"/>\n",
              "  </svg>\n",
              "      </button>\n",
              "      \n",
              "  <style>\n",
              "    .colab-df-container {\n",
              "      display:flex;\n",
              "      flex-wrap:wrap;\n",
              "      gap: 12px;\n",
              "    }\n",
              "\n",
              "    .colab-df-convert {\n",
              "      background-color: #E8F0FE;\n",
              "      border: none;\n",
              "      border-radius: 50%;\n",
              "      cursor: pointer;\n",
              "      display: none;\n",
              "      fill: #1967D2;\n",
              "      height: 32px;\n",
              "      padding: 0 0 0 0;\n",
              "      width: 32px;\n",
              "    }\n",
              "\n",
              "    .colab-df-convert:hover {\n",
              "      background-color: #E2EBFA;\n",
              "      box-shadow: 0px 1px 2px rgba(60, 64, 67, 0.3), 0px 1px 3px 1px rgba(60, 64, 67, 0.15);\n",
              "      fill: #174EA6;\n",
              "    }\n",
              "\n",
              "    [theme=dark] .colab-df-convert {\n",
              "      background-color: #3B4455;\n",
              "      fill: #D2E3FC;\n",
              "    }\n",
              "\n",
              "    [theme=dark] .colab-df-convert:hover {\n",
              "      background-color: #434B5C;\n",
              "      box-shadow: 0px 1px 3px 1px rgba(0, 0, 0, 0.15);\n",
              "      filter: drop-shadow(0px 1px 2px rgba(0, 0, 0, 0.3));\n",
              "      fill: #FFFFFF;\n",
              "    }\n",
              "  </style>\n",
              "\n",
              "      <script>\n",
              "        const buttonEl =\n",
              "          document.querySelector('#df-6151e645-8948-4b64-917e-93e26c99bebc button.colab-df-convert');\n",
              "        buttonEl.style.display =\n",
              "          google.colab.kernel.accessAllowed ? 'block' : 'none';\n",
              "\n",
              "        async function convertToInteractive(key) {\n",
              "          const element = document.querySelector('#df-6151e645-8948-4b64-917e-93e26c99bebc');\n",
              "          const dataTable =\n",
              "            await google.colab.kernel.invokeFunction('convertToInteractive',\n",
              "                                                     [key], {});\n",
              "          if (!dataTable) return;\n",
              "\n",
              "          const docLinkHtml = 'Like what you see? Visit the ' +\n",
              "            '<a target=\"_blank\" href=https://colab.research.google.com/notebooks/data_table.ipynb>data table notebook</a>'\n",
              "            + ' to learn more about interactive tables.';\n",
              "          element.innerHTML = '';\n",
              "          dataTable['output_type'] = 'display_data';\n",
              "          await google.colab.output.renderOutput(dataTable, element);\n",
              "          const docLink = document.createElement('div');\n",
              "          docLink.innerHTML = docLinkHtml;\n",
              "          element.appendChild(docLink);\n",
              "        }\n",
              "      </script>\n",
              "    </div>\n",
              "  </div>\n",
              "  "
            ]
          },
          "metadata": {},
          "execution_count": 16
        }
      ],
      "source": [
        "df.head()"
      ]
    },
    {
      "cell_type": "markdown",
      "metadata": {
        "id": "f5Pns6d8-VBi"
      },
      "source": [
        "Here we consider people who have more than 30 bmi as an \"Overweight\" person\n",
        "\n",
        "Plus we make another column that shows a person is kind of \"Unhealthy\" or not. If a person was smoker and his bmi was more than 30, we identify him as \"Unhealthy\""
      ]
    },
    {
      "cell_type": "code",
      "execution_count": null,
      "metadata": {
        "id": "vx0LtMcj-Ebf",
        "colab": {
          "base_uri": "https://localhost:8080/",
          "height": 565
        },
        "outputId": "48597651-7879-41a8-9f12-f6c620581055"
      },
      "outputs": [
        {
          "output_type": "display_data",
          "data": {
            "text/plain": [
              "<Figure size 864x576 with 2 Axes>"
            ],
            "image/png": "[encoded data removed]"
          },
          "metadata": {
            "needs_background": "light"
          }
        }
      ],
      "source": [
        "plt.figure(figsize=(12, 8))\n",
        "\n",
        "sns.heatmap(df.corr(), cmap='Greens_r', annot=True)\n",
        "plt.show()"
      ]
    },
    {
      "cell_type": "markdown",
      "metadata": {
        "id": "DBoWDaAx-hhJ"
      },
      "source": [
        "As it is clear, the column \"Unhealthy\" has the highest correlation with the a amount of insurance cost, followed by th column that shows whether a person is a smoker or not"
      ]
    },
    {
      "cell_type": "markdown",
      "metadata": {
        "id": "JCPXlF95-sHd"
      },
      "source": [
        "**Split the target column :**"
      ]
    },
    {
      "cell_type": "code",
      "execution_count": null,
      "metadata": {
        "id": "pLS2t8uS-ch-"
      },
      "outputs": [],
      "source": [
        "target = df.pop('charges')"
      ]
    },
    {
      "cell_type": "code",
      "execution_count": null,
      "metadata": {
        "id": "ZeQgcInM-4R9"
      },
      "outputs": [],
      "source": [
        "from sklearn.feature_selection import SelectKBest, mutual_info_regression\n",
        "feature_selector = SelectKBest(score_func=mutual_info_regression, k = 'all').fit(df, target)"
      ]
    },
    {
      "cell_type": "code",
      "execution_count": null,
      "metadata": {
        "id": "9fb7HENO-627",
        "colab": {
          "base_uri": "https://localhost:8080/",
          "height": 483
        },
        "outputId": "0d8666cc-0feb-4779-dc73-f57d38723004"
      },
      "outputs": [
        {
          "output_type": "display_data",
          "data": {
            "text/plain": [
              "<Figure size 1152x576 with 1 Axes>"
            ],
            "image/png": "[encoded data removed]"
          },
          "metadata": {
            "needs_background": "light"
          }
        }
      ],
      "source": [
        "feature_scores = pd.DataFrame({'Feature':df.columns,'Score':feature_selector.scores_})\n",
        "feature_scores.sort_values(by=['Score'],inplace=True)\n",
        "\n",
        "feature_scores[0:20].plot(x='Feature',y='Score',kind='barh',figsize=(16,8))\n",
        "plt.show()"
      ]
    },
    {
      "cell_type": "markdown",
      "metadata": {
        "id": "hjwlnjW8_Cg6"
      },
      "source": [
        "The \"Age\" parameter has the highest mutual infomation with insurance cost by a significant margin compaired to the other variables.\n",
        "\n",
        "After that, there are \"Smoker_yes\"-\"Smoker_no\" and \"Unhealthy\" columns"
      ]
    },
    {
      "cell_type": "code",
      "execution_count": null,
      "metadata": {
        "id": "8nPdbbwV--9u",
        "colab": {
          "base_uri": "https://localhost:8080/",
          "height": 270
        },
        "outputId": "5cdb557e-ba33-4284-ee03-c2c54e9dc453"
      },
      "outputs": [
        {
          "output_type": "execute_result",
          "data": {
            "text/plain": [
              "   age     bmi  children  sex_female  sex_male  smoker_no  smoker_yes  \\\n",
              "0   19  27.900         0           1         0          0           1   \n",
              "1   18  33.770         1           0         1          1           0   \n",
              "2   28  33.000         3           0         1          1           0   \n",
              "3   33  22.705         0           0         1          1           0   \n",
              "4   32  28.880         0           0         1          1           0   \n",
              "\n",
              "   region_northeast  region_northwest  region_southeast  region_southwest  \\\n",
              "0                 0                 0                 0                 1   \n",
              "1                 0                 0                 1                 0   \n",
              "2                 0                 0                 1                 0   \n",
              "3                 0                 1                 0                 0   \n",
              "4                 0                 1                 0                 0   \n",
              "\n",
              "   overweight  unhealthy  \n",
              "0           0          0  \n",
              "1           1          0  \n",
              "2           1          0  \n",
              "3           0          0  \n",
              "4           0          0  "
            ],
            "text/html": [
              "\n",
              "  <div id=\"df-6da2029f-5ac5-4636-8159-31dbc3ad0c7e\">\n",
              "    <div class=\"colab-df-container\">\n",
              "      <div>\n",
              "<style scoped>\n",
              "    .dataframe tbody tr th:only-of-type {\n",
              "        vertical-align: middle;\n",
              "    }\n",
              "\n",
              "    .dataframe tbody tr th {\n",
              "        vertical-align: top;\n",
              "    }\n",
              "\n",
              "    .dataframe thead th {\n",
              "        text-align: right;\n",
              "    }\n",
              "</style>\n",
              "<table border=\"1\" class=\"dataframe\">\n",
              "  <thead>\n",
              "    <tr style=\"text-align: right;\">\n",
              "      <th></th>\n",
              "      <th>age</th>\n",
              "      <th>bmi</th>\n",
              "      <th>children</th>\n",
              "      <th>sex_female</th>\n",
              "      <th>sex_male</th>\n",
              "      <th>smoker_no</th>\n",
              "      <th>smoker_yes</th>\n",
              "      <th>region_northeast</th>\n",
              "      <th>region_northwest</th>\n",
              "      <th>region_southeast</th>\n",
              "      <th>region_southwest</th>\n",
              "      <th>overweight</th>\n",
              "      <th>unhealthy</th>\n",
              "    </tr>\n",
              "  </thead>\n",
              "  <tbody>\n",
              "    <tr>\n",
              "      <th>0</th>\n",
              "      <td>19</td>\n",
              "      <td>27.900</td>\n",
              "      <td>0</td>\n",
              "      <td>1</td>\n",
              "      <td>0</td>\n",
              "      <td>0</td>\n",
              "      <td>1</td>\n",
              "      <td>0</td>\n",
              "      <td>0</td>\n",
              "      <td>0</td>\n",
              "      <td>1</td>\n",
              "      <td>0</td>\n",
              "      <td>0</td>\n",
              "    </tr>\n",
              "    <tr>\n",
              "      <th>1</th>\n",
              "      <td>18</td>\n",
              "      <td>33.770</td>\n",
              "      <td>1</td>\n",
              "      <td>0</td>\n",
              "      <td>1</td>\n",
              "      <td>1</td>\n",
              "      <td>0</td>\n",
              "      <td>0</td>\n",
              "      <td>0</td>\n",
              "      <td>1</td>\n",
              "      <td>0</td>\n",
              "      <td>1</td>\n",
              "      <td>0</td>\n",
              "    </tr>\n",
              "    <tr>\n",
              "      <th>2</th>\n",
              "      <td>28</td>\n",
              "      <td>33.000</td>\n",
              "      <td>3</td>\n",
              "      <td>0</td>\n",
              "      <td>1</td>\n",
              "      <td>1</td>\n",
              "      <td>0</td>\n",
              "      <td>0</td>\n",
              "      <td>0</td>\n",
              "      <td>1</td>\n",
              "      <td>0</td>\n",
              "      <td>1</td>\n",
              "      <td>0</td>\n",
              "    </tr>\n",
              "    <tr>\n",
              "      <th>3</th>\n",
              "      <td>33</td>\n",
              "      <td>22.705</td>\n",
              "      <td>0</td>\n",
              "      <td>0</td>\n",
              "      <td>1</td>\n",
              "      <td>1</td>\n",
              "      <td>0</td>\n",
              "      <td>0</td>\n",
              "      <td>1</td>\n",
              "      <td>0</td>\n",
              "      <td>0</td>\n",
              "      <td>0</td>\n",
              "      <td>0</td>\n",
              "    </tr>\n",
              "    <tr>\n",
              "      <th>4</th>\n",
              "      <td>32</td>\n",
              "      <td>28.880</td>\n",
              "      <td>0</td>\n",
              "      <td>0</td>\n",
              "      <td>1</td>\n",
              "      <td>1</td>\n",
              "      <td>0</td>\n",
              "      <td>0</td>\n",
              "      <td>1</td>\n",
              "      <td>0</td>\n",
              "      <td>0</td>\n",
              "      <td>0</td>\n",
              "      <td>0</td>\n",
              "    </tr>\n",
              "  </tbody>\n",
              "</table>\n",
              "</div>\n",
              "      <button class=\"colab-df-convert\" onclick=\"convertToInteractive('df-6da2029f-5ac5-4636-8159-31dbc3ad0c7e')\"\n",
              "              title=\"Convert this dataframe to an interactive table.\"\n",
              "              style=\"display:none;\">\n",
              "        \n",
              "  <svg xmlns=\"http://www.w3.org/2000/svg\" height=\"24px\"viewBox=\"0 0 24 24\"\n",
              "       width=\"24px\">\n",
              "    <path d=\"M0 0h24v24H0V0z\" fill=\"none\"/>\n",
              "    <path d=\"M18.56 5.44l.94 2.06.94-2.06 2.06-.94-2.06-.94-.94-2.06-.94 2.06-2.06.94zm-11 1L8.5 8.5l.94-2.06 2.06-.94-2.06-.94L8.5 2.5l-.94 2.06-2.06.94zm10 10l.94 2.06.94-2.06 2.06-.94-2.06-.94-.94-2.06-.94 2.06-2.06.94z\"/><path d=\"M17.41 7.96l-1.37-1.37c-.4-.4-.92-.59-1.43-.59-.52 0-1.04.2-1.43.59L10.3 9.45l-7.72 7.72c-.78.78-.78 2.05 0 2.83L4 21.41c.39.39.9.59 1.41.59.51 0 1.02-.2 1.41-.59l7.78-7.78 2.81-2.81c.8-.78.8-2.07 0-2.86zM5.41 20L4 18.59l7.72-7.72 1.47 1.35L5.41 20z\"/>\n",
              "  </svg>\n",
              "      </button>\n",
              "      \n",
              "  <style>\n",
              "    .colab-df-container {\n",
              "      display:flex;\n",
              "      flex-wrap:wrap;\n",
              "      gap: 12px;\n",
              "    }\n",
              "\n",
              "    .colab-df-convert {\n",
              "      background-color: #E8F0FE;\n",
              "      border: none;\n",
              "      border-radius: 50%;\n",
              "      cursor: pointer;\n",
              "      display: none;\n",
              "      fill: #1967D2;\n",
              "      height: 32px;\n",
              "      padding: 0 0 0 0;\n",
              "      width: 32px;\n",
              "    }\n",
              "\n",
              "    .colab-df-convert:hover {\n",
              "      background-color: #E2EBFA;\n",
              "      box-shadow: 0px 1px 2px rgba(60, 64, 67, 0.3), 0px 1px 3px 1px rgba(60, 64, 67, 0.15);\n",
              "      fill: #174EA6;\n",
              "    }\n",
              "\n",
              "    [theme=dark] .colab-df-convert {\n",
              "      background-color: #3B4455;\n",
              "      fill: #D2E3FC;\n",
              "    }\n",
              "\n",
              "    [theme=dark] .colab-df-convert:hover {\n",
              "      background-color: #434B5C;\n",
              "      box-shadow: 0px 1px 3px 1px rgba(0, 0, 0, 0.15);\n",
              "      filter: drop-shadow(0px 1px 2px rgba(0, 0, 0, 0.3));\n",
              "      fill: #FFFFFF;\n",
              "    }\n",
              "  </style>\n",
              "\n",
              "      <script>\n",
              "        const buttonEl =\n",
              "          document.querySelector('#df-6da2029f-5ac5-4636-8159-31dbc3ad0c7e button.colab-df-convert');\n",
              "        buttonEl.style.display =\n",
              "          google.colab.kernel.accessAllowed ? 'block' : 'none';\n",
              "\n",
              "        async function convertToInteractive(key) {\n",
              "          const element = document.querySelector('#df-6da2029f-5ac5-4636-8159-31dbc3ad0c7e');\n",
              "          const dataTable =\n",
              "            await google.colab.kernel.invokeFunction('convertToInteractive',\n",
              "                                                     [key], {});\n",
              "          if (!dataTable) return;\n",
              "\n",
              "          const docLinkHtml = 'Like what you see? Visit the ' +\n",
              "            '<a target=\"_blank\" href=https://colab.research.google.com/notebooks/data_table.ipynb>data table notebook</a>'\n",
              "            + ' to learn more about interactive tables.';\n",
              "          element.innerHTML = '';\n",
              "          dataTable['output_type'] = 'display_data';\n",
              "          await google.colab.output.renderOutput(dataTable, element);\n",
              "          const docLink = document.createElement('div');\n",
              "          docLink.innerHTML = docLinkHtml;\n",
              "          element.appendChild(docLink);\n",
              "        }\n",
              "      </script>\n",
              "    </div>\n",
              "  </div>\n",
              "  "
            ]
          },
          "metadata": {},
          "execution_count": 21
        }
      ],
      "source": [
        "df.head()"
      ]
    },
    {
      "cell_type": "markdown",
      "metadata": {
        "id": "ke5yUiJ4_K_C"
      },
      "source": [
        "Before doing anything, we have to normalize our column values in term of deleting the importance of the scale of columns"
      ]
    },
    {
      "cell_type": "code",
      "execution_count": null,
      "metadata": {
        "id": "4l6laoaX_Gmy"
      },
      "outputs": [],
      "source": [
        "from sklearn.preprocessing import StandardScaler\n",
        "\n",
        "scaler = StandardScaler()\n",
        "normalized_data = scaler.fit_transform(df)"
      ]
    },
    {
      "cell_type": "markdown",
      "metadata": {
        "id": "YOrfaw9Y_Sqq"
      },
      "source": [
        "**Split data into train and test set**"
      ]
    },
    {
      "cell_type": "code",
      "execution_count": null,
      "metadata": {
        "id": "_-nSo1F6_PXl"
      },
      "outputs": [],
      "source": [
        "from sklearn.model_selection import train_test_split\n",
        "\n",
        "x_train, x_test, y_train, y_test = train_test_split(normalized_data, target, test_size=0.2, random_state=0)"
      ]
    },
    {
      "cell_type": "code",
      "execution_count": null,
      "metadata": {
        "colab": {
          "base_uri": "https://localhost:8080/"
        },
        "id": "zVJnaXMR_YPr",
        "outputId": "ce19fbd4-0dff-40a9-9a49-abf6402d60e4"
      },
      "outputs": [
        {
          "output_type": "stream",
          "name": "stderr",
          "text": [
            "/usr/local/lib/python3.8/dist-packages/sklearn/neural_network/_multilayer_perceptron.py:692: ConvergenceWarning: Stochastic Optimizer: Maximum iterations (500) reached and the optimization hasn't converged yet.\n",
            "  warnings.warn(\n"
          ]
        },
        {
          "output_type": "execute_result",
          "data": {
            "text/plain": [
              "MLPRegressor(hidden_layer_sizes=(128, 128, 64, 32), max_iter=500)"
            ]
          },
          "metadata": {},
          "execution_count": 24
        }
      ],
      "source": [
        "from sklearn.neural_network import MLPRegressor\n",
        "model = MLPRegressor(hidden_layer_sizes=(128, 128, 64, 32),max_iter=500)\n",
        "model.fit(x_train, y_train)"
      ]
    },
    {
      "cell_type": "code",
      "execution_count": null,
      "metadata": {
        "id": "inCrrjh9A9E7"
      },
      "outputs": [],
      "source": [
        "predictions = model.predict(x_test)"
      ]
    },
    {
      "cell_type": "code",
      "execution_count": null,
      "metadata": {
        "colab": {
          "base_uri": "https://localhost:8080/"
        },
        "id": "KXNihFvsBfc-",
        "outputId": "0eef9726-3a24-40ca-b86c-66c0d0f9fc16"
      },
      "outputs": [
        {
          "output_type": "stream",
          "name": "stdout",
          "text": [
            "R2 Score is : 0.89\n"
          ]
        }
      ],
      "source": [
        "from sklearn.metrics import r2_score\n",
        "\n",
        "r2 = r2_score(y_test, predictions)\n",
        "print('R2 Score is : %.2f'%(r2))"
      ]
    },
    {
      "cell_type": "code",
      "execution_count": null,
      "metadata": {
        "id": "qj6b-kfGEPtW"
      },
      "outputs": [],
      "source": [
        "from keras import models, layers"
      ]
    },
    {
      "cell_type": "code",
      "execution_count": null,
      "metadata": {
        "id": "trH1FxVbETcX"
      },
      "outputs": [],
      "source": [
        "model = models.Sequential()"
      ]
    },
    {
      "cell_type": "code",
      "execution_count": null,
      "metadata": {
        "id": "N2uiq0r4E8uB"
      },
      "outputs": [],
      "source": [
        "#     Add four hidden layer, as it mentioned in excercise\n",
        "model.add(layers.Dense(units=128, activation='relu', input_shape=(x_train.shape[1], )))\n",
        "model.add(layers.Dense(units=128, activation='relu'))\n",
        "model.add(layers.Dense(units=64, activation='relu'))\n",
        "model.add(layers.Dense(units=32, activation='relu'))\n",
        "\n",
        "#     Add an output layer\n",
        "model.add(layers.Dense(units=1))"
      ]
    },
    {
      "cell_type": "code",
      "execution_count": null,
      "metadata": {
        "id": "pqQxToj5GyTG"
      },
      "outputs": [],
      "source": [
        "model.compile(optimizer='rmsprop',\n",
        "              loss='mse',\n",
        "              metrics=['mse'])"
      ]
    },
    {
      "cell_type": "code",
      "execution_count": null,
      "metadata": {
        "colab": {
          "base_uri": "https://localhost:8080/"
        },
        "id": "rCLfbhxSHhO9",
        "outputId": "51931082-c46e-4903-b6b3-7e38df3bb9c4"
      },
      "outputs": [
        {
          "output_type": "stream",
          "name": "stdout",
          "text": [
            "Epoch 1/20\n",
            "11/11 [==============================] - 3s 3ms/step - loss: 317529440.0000 - mse: 317529440.0000\n",
            "Epoch 2/20\n",
            "11/11 [==============================] - 0s 3ms/step - loss: 316675168.0000 - mse: 316675168.0000\n",
            "Epoch 3/20\n",
            "11/11 [==============================] - 0s 3ms/step - loss: 313769920.0000 - mse: 313769920.0000\n",
            "Epoch 4/20\n",
            "11/11 [==============================] - 0s 3ms/step - loss: 307583584.0000 - mse: 307583584.0000\n",
            "Epoch 5/20\n",
            "11/11 [==============================] - 0s 3ms/step - loss: 296411808.0000 - mse: 296411808.0000\n",
            "Epoch 6/20\n",
            "11/11 [==============================] - 0s 4ms/step - loss: 278148768.0000 - mse: 278148768.0000\n",
            "Epoch 7/20\n",
            "11/11 [==============================] - 0s 3ms/step - loss: 252249344.0000 - mse: 252249344.0000\n",
            "Epoch 8/20\n",
            "11/11 [==============================] - 0s 3ms/step - loss: 218970240.0000 - mse: 218970240.0000\n",
            "Epoch 9/20\n",
            "11/11 [==============================] - 0s 3ms/step - loss: 178996560.0000 - mse: 178996560.0000\n",
            "Epoch 10/20\n",
            "11/11 [==============================] - 0s 4ms/step - loss: 135009360.0000 - mse: 135009360.0000\n",
            "Epoch 11/20\n",
            "11/11 [==============================] - 0s 3ms/step - loss: 91763728.0000 - mse: 91763744.0000\n",
            "Epoch 12/20\n",
            "11/11 [==============================] - 0s 3ms/step - loss: 57380628.0000 - mse: 57380628.0000\n",
            "Epoch 13/20\n",
            "11/11 [==============================] - 0s 3ms/step - loss: 36391908.0000 - mse: 36391908.0000\n",
            "Epoch 14/20\n",
            "11/11 [==============================] - 0s 3ms/step - loss: 28502228.0000 - mse: 28502228.0000\n",
            "Epoch 15/20\n",
            "11/11 [==============================] - 0s 3ms/step - loss: 25938064.0000 - mse: 25938064.0000\n",
            "Epoch 16/20\n",
            "11/11 [==============================] - 0s 3ms/step - loss: 24663516.0000 - mse: 24663516.0000\n",
            "Epoch 17/20\n",
            "11/11 [==============================] - 0s 3ms/step - loss: 23940838.0000 - mse: 23940838.0000\n",
            "Epoch 18/20\n",
            "11/11 [==============================] - 0s 3ms/step - loss: 23302052.0000 - mse: 23302052.0000\n",
            "Epoch 19/20\n",
            "11/11 [==============================] - 0s 4ms/step - loss: 22776826.0000 - mse: 22776826.0000\n",
            "Epoch 20/20\n",
            "11/11 [==============================] - 0s 3ms/step - loss: 22439866.0000 - mse: 22439866.0000\n"
          ]
        },
        {
          "output_type": "execute_result",
          "data": {
            "text/plain": [
              "<keras.callbacks.History at 0x7f23c66cc940>"
            ]
          },
          "metadata": {},
          "execution_count": 31
        }
      ],
      "source": [
        "model.fit(x_train, y_train, batch_size=100, epochs=20)"
      ]
    },
    {
      "cell_type": "code",
      "execution_count": null,
      "metadata": {
        "colab": {
          "base_uri": "https://localhost:8080/"
        },
        "id": "wE8euYCNIB60",
        "outputId": "687f13ca-3076-4f1f-b536-90a20dae10bf"
      },
      "outputs": [
        {
          "output_type": "stream",
          "name": "stdout",
          "text": [
            "9/9 [==============================] - 0s 2ms/step\n"
          ]
        }
      ],
      "source": [
        "prediction = model.predict(x_test)"
      ]
    },
    {
      "cell_type": "code",
      "execution_count": null,
      "metadata": {
        "colab": {
          "base_uri": "https://localhost:8080/"
        },
        "id": "ypUstfo6IRLt",
        "outputId": "9587f173-26fb-4ff8-8c98-74fab095d87c"
      },
      "outputs": [
        {
          "output_type": "stream",
          "name": "stdout",
          "text": [
            "R2 Score is : 0.89\n"
          ]
        }
      ],
      "source": [
        "r2 = r2_score(y_test, prediction)\n",
        "print('R2 Score is : %.2f'%(r2))"
      ]
    },
    {
      "cell_type": "code",
      "execution_count": null,
      "metadata": {
        "id": "P4ab32quof74"
      },
      "outputs": [],
      "source": [
        "input_layer = layers.Input(shape=(x_train.shape[1],))\n",
        "\n",
        "# Pass the output of the input layer into a hidden layer\n",
        "hidden_layer_1 = layers.Dense(128, activation='relu')(input_layer)\n",
        "\n",
        "# The second hidden layer receives input from the input_layer and not the last hidden layer\n",
        "hidden_layer_2 = layers.Dense(64, activation='relu')(input_layer)\n",
        "\n",
        "# The second hidden layer receives input from the hidden_layer_1\n",
        "hidden_layer_3 = layers.Dense(64, activation='relu')(hidden_layer_2)\n",
        "\n",
        "# The last layer is a combination of last three hidden layer\n",
        "hidden_layer_4 = layers.Concatenate()([hidden_layer_2, hidden_layer_3])\n",
        "\n",
        "# Finally, output layer gets it's input from from the last hidden layer\n",
        "output_layer = layers.Dense(1)(hidden_layer_4)\n",
        "\n",
        "model = models.Model(inputs=input_layer, outputs=output_layer)"
      ]
    },
    {
      "cell_type": "markdown",
      "metadata": {
        "id": "4o1MwQPQsZuT"
      },
      "source": [
        "### Visualize model\n",
        "\n",
        "In addition to viewing the summary of the model, we can visualize the structure as well!"
      ]
    },
    {
      "cell_type": "code",
      "execution_count": null,
      "metadata": {
        "id": "p_8XD-K0sn2g"
      },
      "outputs": [],
      "source": [
        "from tensorflow.keras.utils import plot_model"
      ]
    },
    {
      "cell_type": "code",
      "execution_count": null,
      "metadata": {
        "colab": {
          "base_uri": "https://localhost:8080/",
          "height": 533
        },
        "id": "Hy1zVQQts6GT",
        "outputId": "342cffbe-7b89-4a0f-d691-203f40ec9415"
      },
      "outputs": [
        {
          "output_type": "execute_result",
          "data": {
            "image/png": "[encoded data removed]",
            "text/plain": [
              "<IPython.core.display.Image object>"
            ]
          },
          "metadata": {},
          "execution_count": 36
        }
      ],
      "source": [
        "plot_model(model, show_shapes=True)"
      ]
    },
    {
      "cell_type": "code",
      "execution_count": null,
      "metadata": {
        "id": "Frdxi4irIpIN"
      },
      "outputs": [],
      "source": [
        "model.compile(optimizer='rmsprop',\n",
        "              loss='mse',\n",
        "              metrics=['mse'])"
      ]
    },
    {
      "cell_type": "code",
      "execution_count": null,
      "metadata": {
        "id": "hIoVqJNwr05T",
        "colab": {
          "base_uri": "https://localhost:8080/"
        },
        "outputId": "61ebf4a4-fab8-4ef6-ea15-0759eef3e36e"
      },
      "outputs": [
        {
          "output_type": "stream",
          "name": "stdout",
          "text": [
            "Epoch 1/250\n",
            "34/34 [==============================] - 1s 4ms/step - loss: 317570080.0000 - mse: 317570080.0000\n",
            "Epoch 2/250\n",
            "34/34 [==============================] - 0s 3ms/step - loss: 317371680.0000 - mse: 317371680.0000\n",
            "Epoch 3/250\n",
            "34/34 [==============================] - 0s 3ms/step - loss: 317034880.0000 - mse: 317034880.0000\n",
            "Epoch 4/250\n",
            "34/34 [==============================] - 0s 4ms/step - loss: 316482080.0000 - mse: 316482080.0000\n",
            "Epoch 5/250\n",
            "34/34 [==============================] - 0s 3ms/step - loss: 315673696.0000 - mse: 315673696.0000\n",
            "Epoch 6/250\n",
            "34/34 [==============================] - 0s 4ms/step - loss: 314616992.0000 - mse: 314616992.0000\n",
            "Epoch 7/250\n",
            "34/34 [==============================] - 0s 3ms/step - loss: 313211552.0000 - mse: 313211552.0000\n",
            "Epoch 8/250\n",
            "34/34 [==============================] - 0s 3ms/step - loss: 311479936.0000 - mse: 311479936.0000\n",
            "Epoch 9/250\n",
            "34/34 [==============================] - 0s 3ms/step - loss: 309290944.0000 - mse: 309290944.0000\n",
            "Epoch 10/250\n",
            "34/34 [==============================] - 0s 3ms/step - loss: 306616768.0000 - mse: 306616768.0000\n",
            "Epoch 11/250\n",
            "34/34 [==============================] - 0s 3ms/step - loss: 303576448.0000 - mse: 303576448.0000\n",
            "Epoch 12/250\n",
            "34/34 [==============================] - 0s 3ms/step - loss: 299889888.0000 - mse: 299889888.0000\n",
            "Epoch 13/250\n",
            "34/34 [==============================] - 0s 3ms/step - loss: 295591232.0000 - mse: 295591232.0000\n",
            "Epoch 14/250\n",
            "34/34 [==============================] - 0s 3ms/step - loss: 290940320.0000 - mse: 290940320.0000\n",
            "Epoch 15/250\n",
            "34/34 [==============================] - 0s 3ms/step - loss: 285668288.0000 - mse: 285668288.0000\n",
            "Epoch 16/250\n",
            "34/34 [==============================] - 0s 3ms/step - loss: 279652480.0000 - mse: 279652480.0000\n",
            "Epoch 17/250\n",
            "34/34 [==============================] - 0s 3ms/step - loss: 272903488.0000 - mse: 272903488.0000\n",
            "Epoch 18/250\n",
            "34/34 [==============================] - 0s 3ms/step - loss: 265538800.0000 - mse: 265538800.0000\n",
            "Epoch 19/250\n",
            "34/34 [==============================] - 0s 3ms/step - loss: 257374144.0000 - mse: 257374144.0000\n",
            "Epoch 20/250\n",
            "34/34 [==============================] - 0s 3ms/step - loss: 248535952.0000 - mse: 248535952.0000\n",
            "Epoch 21/250\n",
            "34/34 [==============================] - 0s 3ms/step - loss: 239299232.0000 - mse: 239299232.0000\n",
            "Epoch 22/250\n",
            "34/34 [==============================] - 0s 3ms/step - loss: 229234752.0000 - mse: 229234752.0000\n",
            "Epoch 23/250\n",
            "34/34 [==============================] - 0s 3ms/step - loss: 218484624.0000 - mse: 218484624.0000\n",
            "Epoch 24/250\n",
            "34/34 [==============================] - 0s 3ms/step - loss: 207561408.0000 - mse: 207561408.0000\n",
            "Epoch 25/250\n",
            "34/34 [==============================] - 0s 3ms/step - loss: 196067056.0000 - mse: 196067056.0000\n",
            "Epoch 26/250\n",
            "34/34 [==============================] - 0s 3ms/step - loss: 183606864.0000 - mse: 183606864.0000\n",
            "Epoch 27/250\n",
            "34/34 [==============================] - 0s 3ms/step - loss: 171770976.0000 - mse: 171770976.0000\n",
            "Epoch 28/250\n",
            "34/34 [==============================] - 0s 3ms/step - loss: 159421440.0000 - mse: 159421440.0000\n",
            "Epoch 29/250\n",
            "34/34 [==============================] - 0s 3ms/step - loss: 146973792.0000 - mse: 146973792.0000\n",
            "Epoch 30/250\n",
            "34/34 [==============================] - 0s 3ms/step - loss: 134324816.0000 - mse: 134324816.0000\n",
            "Epoch 31/250\n",
            "34/34 [==============================] - 0s 3ms/step - loss: 121190184.0000 - mse: 121190184.0000\n",
            "Epoch 32/250\n",
            "34/34 [==============================] - 0s 3ms/step - loss: 109457856.0000 - mse: 109457856.0000\n",
            "Epoch 33/250\n",
            "34/34 [==============================] - 0s 3ms/step - loss: 97962384.0000 - mse: 97962384.0000\n",
            "Epoch 34/250\n",
            "34/34 [==============================] - 0s 3ms/step - loss: 86514672.0000 - mse: 86514672.0000\n",
            "Epoch 35/250\n",
            "34/34 [==============================] - 0s 3ms/step - loss: 75471752.0000 - mse: 75471752.0000\n",
            "Epoch 36/250\n",
            "34/34 [==============================] - 0s 3ms/step - loss: 65927668.0000 - mse: 65927668.0000\n",
            "Epoch 37/250\n",
            "34/34 [==============================] - 0s 3ms/step - loss: 57048916.0000 - mse: 57048916.0000\n",
            "Epoch 38/250\n",
            "34/34 [==============================] - 0s 3ms/step - loss: 49111104.0000 - mse: 49111104.0000\n",
            "Epoch 39/250\n",
            "34/34 [==============================] - 0s 3ms/step - loss: 42714776.0000 - mse: 42714776.0000\n",
            "Epoch 40/250\n",
            "34/34 [==============================] - 0s 3ms/step - loss: 37914200.0000 - mse: 37914200.0000\n",
            "Epoch 41/250\n",
            "34/34 [==============================] - 0s 3ms/step - loss: 34199920.0000 - mse: 34199920.0000\n",
            "Epoch 42/250\n",
            "34/34 [==============================] - 0s 3ms/step - loss: 31634150.0000 - mse: 31634150.0000\n",
            "Epoch 43/250\n",
            "34/34 [==============================] - 0s 3ms/step - loss: 29802770.0000 - mse: 29802770.0000\n",
            "Epoch 44/250\n",
            "34/34 [==============================] - 0s 3ms/step - loss: 28323200.0000 - mse: 28323200.0000\n",
            "Epoch 45/250\n",
            "34/34 [==============================] - 0s 3ms/step - loss: 27007400.0000 - mse: 27007400.0000\n",
            "Epoch 46/250\n",
            "34/34 [==============================] - 0s 3ms/step - loss: 25949594.0000 - mse: 25949594.0000\n",
            "Epoch 47/250\n",
            "34/34 [==============================] - 0s 3ms/step - loss: 25051314.0000 - mse: 25051314.0000\n",
            "Epoch 48/250\n",
            "34/34 [==============================] - 0s 3ms/step - loss: 24324712.0000 - mse: 24324712.0000\n",
            "Epoch 49/250\n",
            "34/34 [==============================] - 0s 3ms/step - loss: 23787070.0000 - mse: 23787070.0000\n",
            "Epoch 50/250\n",
            "34/34 [==============================] - 0s 3ms/step - loss: 23402722.0000 - mse: 23402722.0000\n",
            "Epoch 51/250\n",
            "34/34 [==============================] - 0s 3ms/step - loss: 23095790.0000 - mse: 23095790.0000\n",
            "Epoch 52/250\n",
            "34/34 [==============================] - 0s 3ms/step - loss: 22873056.0000 - mse: 22873056.0000\n",
            "Epoch 53/250\n",
            "34/34 [==============================] - 0s 3ms/step - loss: 22707400.0000 - mse: 22707400.0000\n",
            "Epoch 54/250\n",
            "34/34 [==============================] - 0s 3ms/step - loss: 22531796.0000 - mse: 22531796.0000\n",
            "Epoch 55/250\n",
            "34/34 [==============================] - 0s 3ms/step - loss: 22418766.0000 - mse: 22418766.0000\n",
            "Epoch 56/250\n",
            "34/34 [==============================] - 0s 3ms/step - loss: 22326988.0000 - mse: 22326988.0000\n",
            "Epoch 57/250\n",
            "34/34 [==============================] - 0s 3ms/step - loss: 22211774.0000 - mse: 22211774.0000\n",
            "Epoch 58/250\n",
            "34/34 [==============================] - 0s 3ms/step - loss: 22117608.0000 - mse: 22117608.0000\n",
            "Epoch 59/250\n",
            "34/34 [==============================] - 0s 3ms/step - loss: 22059832.0000 - mse: 22059832.0000\n",
            "Epoch 60/250\n",
            "34/34 [==============================] - 0s 3ms/step - loss: 21979812.0000 - mse: 21979812.0000\n",
            "Epoch 61/250\n",
            "34/34 [==============================] - 0s 3ms/step - loss: 21911738.0000 - mse: 21911738.0000\n",
            "Epoch 62/250\n",
            "34/34 [==============================] - 0s 3ms/step - loss: 21849818.0000 - mse: 21849818.0000\n",
            "Epoch 63/250\n",
            "34/34 [==============================] - 0s 3ms/step - loss: 21781386.0000 - mse: 21781386.0000\n",
            "Epoch 64/250\n",
            "34/34 [==============================] - 0s 3ms/step - loss: 21720010.0000 - mse: 21720010.0000\n",
            "Epoch 65/250\n",
            "34/34 [==============================] - 0s 3ms/step - loss: 21657904.0000 - mse: 21657904.0000\n",
            "Epoch 66/250\n",
            "34/34 [==============================] - 0s 3ms/step - loss: 21609442.0000 - mse: 21609442.0000\n",
            "Epoch 67/250\n",
            "34/34 [==============================] - 0s 3ms/step - loss: 21552648.0000 - mse: 21552648.0000\n",
            "Epoch 68/250\n",
            "34/34 [==============================] - 0s 3ms/step - loss: 21505474.0000 - mse: 21505474.0000\n",
            "Epoch 69/250\n",
            "34/34 [==============================] - 0s 3ms/step - loss: 21463096.0000 - mse: 21463096.0000\n",
            "Epoch 70/250\n",
            "34/34 [==============================] - 0s 3ms/step - loss: 21410418.0000 - mse: 21410418.0000\n",
            "Epoch 71/250\n",
            "34/34 [==============================] - 0s 3ms/step - loss: 21358258.0000 - mse: 21358258.0000\n",
            "Epoch 72/250\n",
            "34/34 [==============================] - 0s 3ms/step - loss: 21323512.0000 - mse: 21323512.0000\n",
            "Epoch 73/250\n",
            "34/34 [==============================] - 0s 3ms/step - loss: 21274626.0000 - mse: 21274626.0000\n",
            "Epoch 74/250\n",
            "34/34 [==============================] - 0s 3ms/step - loss: 21246460.0000 - mse: 21246460.0000\n",
            "Epoch 75/250\n",
            "34/34 [==============================] - 0s 3ms/step - loss: 21197250.0000 - mse: 21197250.0000\n",
            "Epoch 76/250\n",
            "34/34 [==============================] - 0s 3ms/step - loss: 21155026.0000 - mse: 21155026.0000\n",
            "Epoch 77/250\n",
            "34/34 [==============================] - 0s 3ms/step - loss: 21131492.0000 - mse: 21131492.0000\n",
            "Epoch 78/250\n",
            "34/34 [==============================] - 0s 3ms/step - loss: 21075520.0000 - mse: 21075520.0000\n",
            "Epoch 79/250\n",
            "34/34 [==============================] - 0s 3ms/step - loss: 21063688.0000 - mse: 21063688.0000\n",
            "Epoch 80/250\n",
            "34/34 [==============================] - 0s 3ms/step - loss: 21015696.0000 - mse: 21015696.0000\n",
            "Epoch 81/250\n",
            "34/34 [==============================] - 0s 3ms/step - loss: 21003474.0000 - mse: 21003474.0000\n",
            "Epoch 82/250\n",
            "34/34 [==============================] - 0s 3ms/step - loss: 20965062.0000 - mse: 20965062.0000\n",
            "Epoch 83/250\n",
            "34/34 [==============================] - 0s 3ms/step - loss: 20933028.0000 - mse: 20933028.0000\n",
            "Epoch 84/250\n",
            "34/34 [==============================] - 0s 3ms/step - loss: 20898368.0000 - mse: 20898368.0000\n",
            "Epoch 85/250\n",
            "34/34 [==============================] - 0s 3ms/step - loss: 20882190.0000 - mse: 20882190.0000\n",
            "Epoch 86/250\n",
            "34/34 [==============================] - 0s 3ms/step - loss: 20846896.0000 - mse: 20846896.0000\n",
            "Epoch 87/250\n",
            "34/34 [==============================] - 0s 3ms/step - loss: 20829874.0000 - mse: 20829874.0000\n",
            "Epoch 88/250\n",
            "34/34 [==============================] - 0s 3ms/step - loss: 20795122.0000 - mse: 20795122.0000\n",
            "Epoch 89/250\n",
            "34/34 [==============================] - 0s 3ms/step - loss: 20780780.0000 - mse: 20780780.0000\n",
            "Epoch 90/250\n",
            "34/34 [==============================] - 0s 3ms/step - loss: 20750008.0000 - mse: 20750008.0000\n",
            "Epoch 91/250\n",
            "34/34 [==============================] - 0s 3ms/step - loss: 20725374.0000 - mse: 20725374.0000\n",
            "Epoch 92/250\n",
            "34/34 [==============================] - 0s 3ms/step - loss: 20709224.0000 - mse: 20709224.0000\n",
            "Epoch 93/250\n",
            "34/34 [==============================] - 0s 3ms/step - loss: 20685152.0000 - mse: 20685152.0000\n",
            "Epoch 94/250\n",
            "34/34 [==============================] - 0s 3ms/step - loss: 20667304.0000 - mse: 20667304.0000\n",
            "Epoch 95/250\n",
            "34/34 [==============================] - 0s 3ms/step - loss: 20651166.0000 - mse: 20651166.0000\n",
            "Epoch 96/250\n",
            "34/34 [==============================] - 0s 3ms/step - loss: 20624254.0000 - mse: 20624254.0000\n",
            "Epoch 97/250\n",
            "34/34 [==============================] - 0s 3ms/step - loss: 20603226.0000 - mse: 20603226.0000\n",
            "Epoch 98/250\n",
            "34/34 [==============================] - 0s 3ms/step - loss: 20584856.0000 - mse: 20584856.0000\n",
            "Epoch 99/250\n",
            "34/34 [==============================] - 0s 3ms/step - loss: 20565692.0000 - mse: 20565692.0000\n",
            "Epoch 100/250\n",
            "34/34 [==============================] - 0s 3ms/step - loss: 20539274.0000 - mse: 20539274.0000\n",
            "Epoch 101/250\n",
            "34/34 [==============================] - 0s 3ms/step - loss: 20526398.0000 - mse: 20526398.0000\n",
            "Epoch 102/250\n",
            "34/34 [==============================] - 0s 3ms/step - loss: 20513858.0000 - mse: 20513858.0000\n",
            "Epoch 103/250\n",
            "34/34 [==============================] - 0s 3ms/step - loss: 20488964.0000 - mse: 20488964.0000\n",
            "Epoch 104/250\n",
            "34/34 [==============================] - 0s 3ms/step - loss: 20484488.0000 - mse: 20484488.0000\n",
            "Epoch 105/250\n",
            "34/34 [==============================] - 0s 3ms/step - loss: 20464148.0000 - mse: 20464148.0000\n",
            "Epoch 106/250\n",
            "34/34 [==============================] - 0s 3ms/step - loss: 20440382.0000 - mse: 20440382.0000\n",
            "Epoch 107/250\n",
            "34/34 [==============================] - 0s 3ms/step - loss: 20433862.0000 - mse: 20433862.0000\n",
            "Epoch 108/250\n",
            "34/34 [==============================] - 0s 3ms/step - loss: 20411516.0000 - mse: 20411516.0000\n",
            "Epoch 109/250\n",
            "34/34 [==============================] - 0s 3ms/step - loss: 20408476.0000 - mse: 20408476.0000\n",
            "Epoch 110/250\n",
            "34/34 [==============================] - 0s 3ms/step - loss: 20385080.0000 - mse: 20385080.0000\n",
            "Epoch 111/250\n",
            "34/34 [==============================] - 0s 3ms/step - loss: 20367596.0000 - mse: 20367596.0000\n",
            "Epoch 112/250\n",
            "34/34 [==============================] - 0s 3ms/step - loss: 20360146.0000 - mse: 20360146.0000\n",
            "Epoch 113/250\n",
            "34/34 [==============================] - 0s 3ms/step - loss: 20338622.0000 - mse: 20338622.0000\n",
            "Epoch 114/250\n",
            "34/34 [==============================] - 0s 3ms/step - loss: 20333202.0000 - mse: 20333202.0000\n",
            "Epoch 115/250\n",
            "34/34 [==============================] - 0s 3ms/step - loss: 20309958.0000 - mse: 20309958.0000\n",
            "Epoch 116/250\n",
            "34/34 [==============================] - 0s 3ms/step - loss: 20311110.0000 - mse: 20311110.0000\n",
            "Epoch 117/250\n",
            "34/34 [==============================] - 0s 3ms/step - loss: 20291084.0000 - mse: 20291084.0000\n",
            "Epoch 118/250\n",
            "34/34 [==============================] - 0s 3ms/step - loss: 20286070.0000 - mse: 20286070.0000\n",
            "Epoch 119/250\n",
            "34/34 [==============================] - 0s 3ms/step - loss: 20261996.0000 - mse: 20261996.0000\n",
            "Epoch 120/250\n",
            "34/34 [==============================] - 0s 3ms/step - loss: 20260398.0000 - mse: 20260398.0000\n",
            "Epoch 121/250\n",
            "34/34 [==============================] - 0s 3ms/step - loss: 20246614.0000 - mse: 20246614.0000\n",
            "Epoch 122/250\n",
            "34/34 [==============================] - 0s 3ms/step - loss: 20234596.0000 - mse: 20234596.0000\n",
            "Epoch 123/250\n",
            "34/34 [==============================] - 0s 3ms/step - loss: 20227608.0000 - mse: 20227608.0000\n",
            "Epoch 124/250\n",
            "34/34 [==============================] - 0s 3ms/step - loss: 20215028.0000 - mse: 20215028.0000\n",
            "Epoch 125/250\n",
            "34/34 [==============================] - 0s 3ms/step - loss: 20202874.0000 - mse: 20202874.0000\n",
            "Epoch 126/250\n",
            "34/34 [==============================] - 0s 3ms/step - loss: 20192446.0000 - mse: 20192446.0000\n",
            "Epoch 127/250\n",
            "34/34 [==============================] - 0s 3ms/step - loss: 20179316.0000 - mse: 20179316.0000\n",
            "Epoch 128/250\n",
            "34/34 [==============================] - 0s 3ms/step - loss: 20176008.0000 - mse: 20176008.0000\n",
            "Epoch 129/250\n",
            "34/34 [==============================] - 0s 3ms/step - loss: 20163248.0000 - mse: 20163248.0000\n",
            "Epoch 130/250\n",
            "34/34 [==============================] - 0s 3ms/step - loss: 20152536.0000 - mse: 20152536.0000\n",
            "Epoch 131/250\n",
            "34/34 [==============================] - 0s 3ms/step - loss: 20151856.0000 - mse: 20151856.0000\n",
            "Epoch 132/250\n",
            "34/34 [==============================] - 0s 3ms/step - loss: 20142234.0000 - mse: 20142234.0000\n",
            "Epoch 133/250\n",
            "34/34 [==============================] - 0s 3ms/step - loss: 20124510.0000 - mse: 20124510.0000\n",
            "Epoch 134/250\n",
            "34/34 [==============================] - 0s 3ms/step - loss: 20118698.0000 - mse: 20118698.0000\n",
            "Epoch 135/250\n",
            "34/34 [==============================] - 0s 3ms/step - loss: 20115310.0000 - mse: 20115310.0000\n",
            "Epoch 136/250\n",
            "34/34 [==============================] - 0s 3ms/step - loss: 20095962.0000 - mse: 20095962.0000\n",
            "Epoch 137/250\n",
            "34/34 [==============================] - 0s 3ms/step - loss: 20102906.0000 - mse: 20102906.0000\n",
            "Epoch 138/250\n",
            "34/34 [==============================] - 0s 3ms/step - loss: 20085062.0000 - mse: 20085062.0000\n",
            "Epoch 139/250\n",
            "34/34 [==============================] - 0s 3ms/step - loss: 20079798.0000 - mse: 20079798.0000\n",
            "Epoch 140/250\n",
            "34/34 [==============================] - 0s 3ms/step - loss: 20067876.0000 - mse: 20067876.0000\n",
            "Epoch 141/250\n",
            "34/34 [==============================] - 0s 3ms/step - loss: 20061662.0000 - mse: 20061662.0000\n",
            "Epoch 142/250\n",
            "34/34 [==============================] - 0s 3ms/step - loss: 20051168.0000 - mse: 20051168.0000\n",
            "Epoch 143/250\n",
            "34/34 [==============================] - 0s 3ms/step - loss: 20051632.0000 - mse: 20051632.0000\n",
            "Epoch 144/250\n",
            "34/34 [==============================] - 0s 3ms/step - loss: 20050300.0000 - mse: 20050300.0000\n",
            "Epoch 145/250\n",
            "34/34 [==============================] - 0s 3ms/step - loss: 20030888.0000 - mse: 20030888.0000\n",
            "Epoch 146/250\n",
            "34/34 [==============================] - 0s 3ms/step - loss: 20030280.0000 - mse: 20030280.0000\n",
            "Epoch 147/250\n",
            "34/34 [==============================] - 0s 3ms/step - loss: 20024160.0000 - mse: 20024160.0000\n",
            "Epoch 148/250\n",
            "34/34 [==============================] - 0s 3ms/step - loss: 20024670.0000 - mse: 20024670.0000\n",
            "Epoch 149/250\n",
            "34/34 [==============================] - 0s 3ms/step - loss: 20013168.0000 - mse: 20013168.0000\n",
            "Epoch 150/250\n",
            "34/34 [==============================] - 0s 3ms/step - loss: 20012856.0000 - mse: 20012856.0000\n",
            "Epoch 151/250\n",
            "34/34 [==============================] - 0s 3ms/step - loss: 19996996.0000 - mse: 19996996.0000\n",
            "Epoch 152/250\n",
            "34/34 [==============================] - 0s 3ms/step - loss: 19986158.0000 - mse: 19986158.0000\n",
            "Epoch 153/250\n",
            "34/34 [==============================] - 0s 3ms/step - loss: 19986928.0000 - mse: 19986928.0000\n",
            "Epoch 154/250\n",
            "34/34 [==============================] - 0s 3ms/step - loss: 19977832.0000 - mse: 19977832.0000\n",
            "Epoch 155/250\n",
            "34/34 [==============================] - 0s 3ms/step - loss: 19974834.0000 - mse: 19974834.0000\n",
            "Epoch 156/250\n",
            "34/34 [==============================] - 0s 3ms/step - loss: 19959220.0000 - mse: 19959220.0000\n",
            "Epoch 157/250\n",
            "34/34 [==============================] - 0s 3ms/step - loss: 19961122.0000 - mse: 19961122.0000\n",
            "Epoch 158/250\n",
            "34/34 [==============================] - 0s 3ms/step - loss: 19966240.0000 - mse: 19966240.0000\n",
            "Epoch 159/250\n",
            "34/34 [==============================] - 0s 3ms/step - loss: 19948426.0000 - mse: 19948426.0000\n",
            "Epoch 160/250\n",
            "34/34 [==============================] - 0s 3ms/step - loss: 19945652.0000 - mse: 19945652.0000\n",
            "Epoch 161/250\n",
            "34/34 [==============================] - 0s 3ms/step - loss: 19934774.0000 - mse: 19934774.0000\n",
            "Epoch 162/250\n",
            "34/34 [==============================] - 0s 3ms/step - loss: 19939490.0000 - mse: 19939490.0000\n",
            "Epoch 163/250\n",
            "34/34 [==============================] - 0s 3ms/step - loss: 19930340.0000 - mse: 19930340.0000\n",
            "Epoch 164/250\n",
            "34/34 [==============================] - 0s 3ms/step - loss: 19928832.0000 - mse: 19928832.0000\n",
            "Epoch 165/250\n",
            "34/34 [==============================] - 0s 3ms/step - loss: 19928348.0000 - mse: 19928348.0000\n",
            "Epoch 166/250\n",
            "34/34 [==============================] - 0s 3ms/step - loss: 19906756.0000 - mse: 19906756.0000\n",
            "Epoch 167/250\n",
            "34/34 [==============================] - 0s 3ms/step - loss: 19910328.0000 - mse: 19910328.0000\n",
            "Epoch 168/250\n",
            "34/34 [==============================] - 0s 3ms/step - loss: 19903448.0000 - mse: 19903448.0000\n",
            "Epoch 169/250\n",
            "34/34 [==============================] - 0s 3ms/step - loss: 19896328.0000 - mse: 19896328.0000\n",
            "Epoch 170/250\n",
            "34/34 [==============================] - 0s 3ms/step - loss: 19894596.0000 - mse: 19894596.0000\n",
            "Epoch 171/250\n",
            "34/34 [==============================] - 0s 3ms/step - loss: 19896170.0000 - mse: 19896170.0000\n",
            "Epoch 172/250\n",
            "34/34 [==============================] - 0s 3ms/step - loss: 19883438.0000 - mse: 19883438.0000\n",
            "Epoch 173/250\n",
            "34/34 [==============================] - 0s 3ms/step - loss: 19897012.0000 - mse: 19897012.0000\n",
            "Epoch 174/250\n",
            "34/34 [==============================] - 0s 3ms/step - loss: 19867092.0000 - mse: 19867092.0000\n",
            "Epoch 175/250\n",
            "34/34 [==============================] - 0s 3ms/step - loss: 19873306.0000 - mse: 19873306.0000\n",
            "Epoch 176/250\n",
            "34/34 [==============================] - 0s 3ms/step - loss: 19867322.0000 - mse: 19867322.0000\n",
            "Epoch 177/250\n",
            "34/34 [==============================] - 0s 3ms/step - loss: 19874242.0000 - mse: 19874242.0000\n",
            "Epoch 178/250\n",
            "34/34 [==============================] - 0s 3ms/step - loss: 19861678.0000 - mse: 19861678.0000\n",
            "Epoch 179/250\n",
            "34/34 [==============================] - 0s 3ms/step - loss: 19863272.0000 - mse: 19863272.0000\n",
            "Epoch 180/250\n",
            "34/34 [==============================] - 0s 3ms/step - loss: 19858622.0000 - mse: 19858622.0000\n",
            "Epoch 181/250\n",
            "34/34 [==============================] - 0s 4ms/step - loss: 19860424.0000 - mse: 19860424.0000\n",
            "Epoch 182/250\n",
            "34/34 [==============================] - 0s 3ms/step - loss: 19846436.0000 - mse: 19846436.0000\n",
            "Epoch 183/250\n",
            "34/34 [==============================] - 0s 3ms/step - loss: 19837708.0000 - mse: 19837708.0000\n",
            "Epoch 184/250\n",
            "34/34 [==============================] - 0s 3ms/step - loss: 19844388.0000 - mse: 19844388.0000\n",
            "Epoch 185/250\n",
            "34/34 [==============================] - 0s 3ms/step - loss: 19820384.0000 - mse: 19820384.0000\n",
            "Epoch 186/250\n",
            "34/34 [==============================] - 0s 3ms/step - loss: 19832772.0000 - mse: 19832772.0000\n",
            "Epoch 187/250\n",
            "34/34 [==============================] - 0s 3ms/step - loss: 19831834.0000 - mse: 19831834.0000\n",
            "Epoch 188/250\n",
            "34/34 [==============================] - 0s 3ms/step - loss: 19821182.0000 - mse: 19821182.0000\n",
            "Epoch 189/250\n",
            "34/34 [==============================] - 0s 3ms/step - loss: 19825078.0000 - mse: 19825078.0000\n",
            "Epoch 190/250\n",
            "34/34 [==============================] - 0s 3ms/step - loss: 19823742.0000 - mse: 19823742.0000\n",
            "Epoch 191/250\n",
            "34/34 [==============================] - 0s 3ms/step - loss: 19814522.0000 - mse: 19814522.0000\n",
            "Epoch 192/250\n",
            "34/34 [==============================] - 0s 3ms/step - loss: 19813728.0000 - mse: 19813728.0000\n",
            "Epoch 193/250\n",
            "34/34 [==============================] - 0s 4ms/step - loss: 19807970.0000 - mse: 19807970.0000\n",
            "Epoch 194/250\n",
            "34/34 [==============================] - 0s 4ms/step - loss: 19799622.0000 - mse: 19799622.0000\n",
            "Epoch 195/250\n",
            "34/34 [==============================] - 0s 3ms/step - loss: 19806330.0000 - mse: 19806330.0000\n",
            "Epoch 196/250\n",
            "34/34 [==============================] - 0s 3ms/step - loss: 19801956.0000 - mse: 19801956.0000\n",
            "Epoch 197/250\n",
            "34/34 [==============================] - 0s 3ms/step - loss: 19792112.0000 - mse: 19792112.0000\n",
            "Epoch 198/250\n",
            "34/34 [==============================] - 0s 4ms/step - loss: 19796166.0000 - mse: 19796166.0000\n",
            "Epoch 199/250\n",
            "34/34 [==============================] - 0s 3ms/step - loss: 19787932.0000 - mse: 19787932.0000\n",
            "Epoch 200/250\n",
            "34/34 [==============================] - 0s 4ms/step - loss: 19789560.0000 - mse: 19789560.0000\n",
            "Epoch 201/250\n",
            "34/34 [==============================] - 0s 3ms/step - loss: 19786552.0000 - mse: 19786552.0000\n",
            "Epoch 202/250\n",
            "34/34 [==============================] - 0s 3ms/step - loss: 19777050.0000 - mse: 19777050.0000\n",
            "Epoch 203/250\n",
            "34/34 [==============================] - 0s 3ms/step - loss: 19780674.0000 - mse: 19780674.0000\n",
            "Epoch 204/250\n",
            "34/34 [==============================] - 0s 3ms/step - loss: 19773086.0000 - mse: 19773086.0000\n",
            "Epoch 205/250\n",
            "34/34 [==============================] - 0s 3ms/step - loss: 19759338.0000 - mse: 19759338.0000\n",
            "Epoch 206/250\n",
            "34/34 [==============================] - 0s 3ms/step - loss: 19771772.0000 - mse: 19771772.0000\n",
            "Epoch 207/250\n",
            "34/34 [==============================] - 0s 4ms/step - loss: 19766242.0000 - mse: 19766242.0000\n",
            "Epoch 208/250\n",
            "34/34 [==============================] - 0s 3ms/step - loss: 19758256.0000 - mse: 19758256.0000\n",
            "Epoch 209/250\n",
            "34/34 [==============================] - 0s 3ms/step - loss: 19757264.0000 - mse: 19757264.0000\n",
            "Epoch 210/250\n",
            "34/34 [==============================] - 0s 3ms/step - loss: 19749162.0000 - mse: 19749162.0000\n",
            "Epoch 211/250\n",
            "34/34 [==============================] - 0s 3ms/step - loss: 19745950.0000 - mse: 19745950.0000\n",
            "Epoch 212/250\n",
            "34/34 [==============================] - 0s 3ms/step - loss: 19753228.0000 - mse: 19753228.0000\n",
            "Epoch 213/250\n",
            "34/34 [==============================] - 0s 3ms/step - loss: 19738286.0000 - mse: 19738286.0000\n",
            "Epoch 214/250\n",
            "34/34 [==============================] - 0s 3ms/step - loss: 19741726.0000 - mse: 19741726.0000\n",
            "Epoch 215/250\n",
            "34/34 [==============================] - 0s 3ms/step - loss: 19743034.0000 - mse: 19743034.0000\n",
            "Epoch 216/250\n",
            "34/34 [==============================] - 0s 3ms/step - loss: 19733672.0000 - mse: 19733672.0000\n",
            "Epoch 217/250\n",
            "34/34 [==============================] - 0s 3ms/step - loss: 19735902.0000 - mse: 19735902.0000\n",
            "Epoch 218/250\n",
            "34/34 [==============================] - 0s 3ms/step - loss: 19724706.0000 - mse: 19724706.0000\n",
            "Epoch 219/250\n",
            "34/34 [==============================] - 0s 3ms/step - loss: 19726934.0000 - mse: 19726934.0000\n",
            "Epoch 220/250\n",
            "34/34 [==============================] - 0s 3ms/step - loss: 19723028.0000 - mse: 19723028.0000\n",
            "Epoch 221/250\n",
            "34/34 [==============================] - 0s 3ms/step - loss: 19727254.0000 - mse: 19727254.0000\n",
            "Epoch 222/250\n",
            "34/34 [==============================] - 0s 3ms/step - loss: 19719514.0000 - mse: 19719514.0000\n",
            "Epoch 223/250\n",
            "34/34 [==============================] - 0s 3ms/step - loss: 19721006.0000 - mse: 19721006.0000\n",
            "Epoch 224/250\n",
            "34/34 [==============================] - 0s 4ms/step - loss: 19712862.0000 - mse: 19712862.0000\n",
            "Epoch 225/250\n",
            "34/34 [==============================] - 0s 3ms/step - loss: 19709176.0000 - mse: 19709176.0000\n",
            "Epoch 226/250\n",
            "34/34 [==============================] - 0s 3ms/step - loss: 19704722.0000 - mse: 19704722.0000\n",
            "Epoch 227/250\n",
            "34/34 [==============================] - 0s 3ms/step - loss: 19711586.0000 - mse: 19711586.0000\n",
            "Epoch 228/250\n",
            "34/34 [==============================] - 0s 3ms/step - loss: 19693056.0000 - mse: 19693056.0000\n",
            "Epoch 229/250\n",
            "34/34 [==============================] - 0s 3ms/step - loss: 19709138.0000 - mse: 19709138.0000\n",
            "Epoch 230/250\n",
            "34/34 [==============================] - 0s 3ms/step - loss: 19695876.0000 - mse: 19695876.0000\n",
            "Epoch 231/250\n",
            "34/34 [==============================] - 0s 3ms/step - loss: 19697102.0000 - mse: 19697102.0000\n",
            "Epoch 232/250\n",
            "34/34 [==============================] - 0s 3ms/step - loss: 19698488.0000 - mse: 19698488.0000\n",
            "Epoch 233/250\n",
            "34/34 [==============================] - 0s 3ms/step - loss: 19690738.0000 - mse: 19690738.0000\n",
            "Epoch 234/250\n",
            "34/34 [==============================] - 0s 3ms/step - loss: 19683554.0000 - mse: 19683554.0000\n",
            "Epoch 235/250\n",
            "34/34 [==============================] - 0s 3ms/step - loss: 19695950.0000 - mse: 19695950.0000\n",
            "Epoch 236/250\n",
            "34/34 [==============================] - 0s 3ms/step - loss: 19679214.0000 - mse: 19679214.0000\n",
            "Epoch 237/250\n",
            "34/34 [==============================] - 0s 3ms/step - loss: 19688234.0000 - mse: 19688234.0000\n",
            "Epoch 238/250\n",
            "34/34 [==============================] - 0s 3ms/step - loss: 19682472.0000 - mse: 19682472.0000\n",
            "Epoch 239/250\n",
            "34/34 [==============================] - 0s 3ms/step - loss: 19668970.0000 - mse: 19668970.0000\n",
            "Epoch 240/250\n",
            "34/34 [==============================] - 0s 3ms/step - loss: 19676362.0000 - mse: 19676362.0000\n",
            "Epoch 241/250\n",
            "34/34 [==============================] - 0s 3ms/step - loss: 19671474.0000 - mse: 19671474.0000\n",
            "Epoch 242/250\n",
            "34/34 [==============================] - 0s 3ms/step - loss: 19664652.0000 - mse: 19664652.0000\n",
            "Epoch 243/250\n",
            "34/34 [==============================] - 0s 3ms/step - loss: 19663312.0000 - mse: 19663312.0000\n",
            "Epoch 244/250\n",
            "34/34 [==============================] - 0s 3ms/step - loss: 19682022.0000 - mse: 19682022.0000\n",
            "Epoch 245/250\n",
            "34/34 [==============================] - 0s 3ms/step - loss: 19661742.0000 - mse: 19661742.0000\n",
            "Epoch 246/250\n",
            "34/34 [==============================] - 0s 3ms/step - loss: 19660452.0000 - mse: 19660452.0000\n",
            "Epoch 247/250\n",
            "34/34 [==============================] - 0s 3ms/step - loss: 19659916.0000 - mse: 19659916.0000\n",
            "Epoch 248/250\n",
            "34/34 [==============================] - 0s 3ms/step - loss: 19656832.0000 - mse: 19656832.0000\n",
            "Epoch 249/250\n",
            "34/34 [==============================] - 0s 3ms/step - loss: 19655374.0000 - mse: 19655374.0000\n",
            "Epoch 250/250\n",
            "34/34 [==============================] - 0s 3ms/step - loss: 19657428.0000 - mse: 19657428.0000\n"
          ]
        },
        {
          "output_type": "execute_result",
          "data": {
            "text/plain": [
              "<keras.callbacks.History at 0x7f23c618fe80>"
            ]
          },
          "metadata": {},
          "execution_count": 38
        }
      ],
      "source": [
        "model.fit(x_train, y_train, batch_size=32, epochs=250)"
      ]
    },
    {
      "cell_type": "code",
      "execution_count": null,
      "metadata": {
        "id": "7UJTJDgpr11d",
        "colab": {
          "base_uri": "https://localhost:8080/"
        },
        "outputId": "31d94fd5-b67b-4897-b8c3-14857a82f5e0"
      },
      "outputs": [
        {
          "output_type": "stream",
          "name": "stdout",
          "text": [
            "9/9 [==============================] - 0s 2ms/step\n"
          ]
        }
      ],
      "source": [
        "prediction = model.predict(x_test)"
      ]
    },
    {
      "cell_type": "code",
      "execution_count": null,
      "metadata": {
        "id": "VwEMzByZr6D1",
        "colab": {
          "base_uri": "https://localhost:8080/"
        },
        "outputId": "df7ef7c2-28b1-42d4-9aad-cc25b62319a7"
      },
      "outputs": [
        {
          "output_type": "stream",
          "name": "stdout",
          "text": [
            "R2 Score is : 0.90\n"
          ]
        }
      ],
      "source": [
        "r2 = r2_score(y_test, prediction)\n",
        "print('R2 Score is : %.2f'%(r2))"
      ]
    },
    {
      "cell_type": "code",
      "execution_count": null,
      "metadata": {
        "id": "hIH8PzyFr9Ad"
      },
      "outputs": [],
      "source": [
        "# Importing the necessary libraries\n",
        "import torch.nn as nn\n",
        "import torch.nn.functional as F\n",
        "from torch.utils.data import TensorDataset, DataLoader\n",
        "from torch import Tensor"
      ]
    },
    {
      "cell_type": "code",
      "execution_count": null,
      "metadata": {
        "id": "sGx3DNANBlpN"
      },
      "outputs": [],
      "source": [
        "# transform to torch tensor\n",
        "tensor_x_train = Tensor(x_train)\n",
        "tensor_y_train = Tensor(y_train.values.astype(np.float32))\n",
        "tensor_x_test = Tensor(x_test)\n",
        "tensor_y_test = Tensor(y_test.values.astype(np.float32))\n",
        "\n",
        "# create the datset\n",
        "train_set = TensorDataset(tensor_x_train,tensor_y_train)\n",
        "test_set = TensorDataset(tensor_x_test,tensor_y_test)\n",
        "\n",
        "# create your dataloader\n",
        "train_dl = DataLoader(train_set,batch_size=32, shuffle=True)\n",
        "test_dl = DataLoader(test_set,batch_size=32, shuffle=True)\n"
      ]
    },
    {
      "cell_type": "code",
      "execution_count": null,
      "metadata": {
        "id": "Jt8lejPQD5x7"
      },
      "outputs": [],
      "source": [
        "layers = []\n",
        "layers.append(nn.Linear(x_train.shape[1], 128))\n",
        "layers.append(nn.ReLU())\n",
        "\n",
        "layers.append(nn.Linear(128, 64))\n",
        "layers.append(nn.ReLU())\n",
        "\n",
        "layers.append(nn.Linear(64, 32))\n",
        "layers.append(nn.ReLU())\n",
        "\n",
        "layers.append(nn.Linear(32, 1))\n",
        "layers.append(nn.ReLU())\n",
        "\n",
        "model = nn.Sequential(*layers)"
      ]
    },
    {
      "cell_type": "code",
      "execution_count": null,
      "metadata": {
        "id": "IMIKWP2HEEFJ"
      },
      "outputs": [],
      "source": [
        "from torch.nn import MSELoss\n",
        "from torch.optim import Adam\n",
        "\n",
        "criterion = MSELoss()\n",
        "optimizer = Adam(model.parameters(), lr=0.0001)"
      ]
    },
    {
      "cell_type": "markdown",
      "metadata": {
        "id": "bEqPPhPgGTX4"
      },
      "source": [
        "Now let's perform the training.\n",
        "\n",
        "In contrast to Keras, we need to create our own training loop, which is a bit cumbersome!"
      ]
    },
    {
      "cell_type": "code",
      "execution_count": null,
      "metadata": {
        "id": "zNDJYpwFGUbL",
        "colab": {
          "base_uri": "https://localhost:8080/"
        },
        "outputId": "f2b1b3c2-30f1-43a7-83f4-cce070d25502"
      },
      "outputs": [
        {
          "output_type": "stream",
          "name": "stdout",
          "text": [
            "[1,     1] MSE is: 193475.744\n",
            "[2,     1] MSE is: 153438.544\n",
            "[3,     1] MSE is: 228429.008\n",
            "[4,     1] MSE is: 158714.752\n",
            "[5,     1] MSE is: 124841.872\n",
            "[6,     1] MSE is: 136486.064\n",
            "[7,     1] MSE is: 211465.408\n",
            "[8,     1] MSE is: 125603.080\n",
            "[9,     1] MSE is: 162660.896\n",
            "[10,     1] MSE is: 123342.968\n",
            "[11,     1] MSE is: 112719.600\n",
            "[12,     1] MSE is: 159192.096\n",
            "[13,     1] MSE is: 67498.040\n",
            "[14,     1] MSE is: 206958.592\n",
            "[15,     1] MSE is: 208784.208\n",
            "[16,     1] MSE is: 162307.344\n",
            "[17,     1] MSE is: 102699.984\n",
            "[18,     1] MSE is: 159931.552\n",
            "[19,     1] MSE is: 192897.408\n",
            "[20,     1] MSE is: 110483.064\n",
            "[21,     1] MSE is: 131433.064\n",
            "[22,     1] MSE is: 263902.400\n",
            "[23,     1] MSE is: 168476.112\n",
            "[24,     1] MSE is: 118802.272\n",
            "[25,     1] MSE is: 70755.488\n",
            "[26,     1] MSE is: 170702.864\n",
            "[27,     1] MSE is: 119106.544\n",
            "[28,     1] MSE is: 123627.056\n",
            "[29,     1] MSE is: 157464.832\n",
            "[30,     1] MSE is: 134192.328\n",
            "[31,     1] MSE is: 137363.808\n",
            "[32,     1] MSE is: 127220.520\n",
            "[33,     1] MSE is: 173416.208\n",
            "[34,     1] MSE is: 119346.800\n",
            "[35,     1] MSE is: 147680.752\n",
            "[36,     1] MSE is: 100749.064\n",
            "[37,     1] MSE is: 99973.264\n",
            "[38,     1] MSE is: 138281.024\n",
            "[39,     1] MSE is: 109559.872\n",
            "[40,     1] MSE is: 61078.712\n",
            "[41,     1] MSE is: 80329.688\n",
            "[42,     1] MSE is: 173012.800\n",
            "[43,     1] MSE is: 74799.688\n",
            "[44,     1] MSE is: 119440.976\n",
            "[45,     1] MSE is: 109685.872\n",
            "[46,     1] MSE is: 151847.312\n",
            "[47,     1] MSE is: 84712.960\n",
            "[48,     1] MSE is: 125379.104\n",
            "[49,     1] MSE is: 87528.496\n",
            "[50,     1] MSE is: 68282.336\n",
            "[51,     1] MSE is: 113489.368\n",
            "[52,     1] MSE is: 81214.272\n",
            "[53,     1] MSE is: 70139.120\n",
            "[54,     1] MSE is: 116211.144\n",
            "[55,     1] MSE is: 101526.368\n",
            "[56,     1] MSE is: 70757.992\n",
            "[57,     1] MSE is: 70886.312\n",
            "[58,     1] MSE is: 56572.132\n",
            "[59,     1] MSE is: 95413.816\n",
            "[60,     1] MSE is: 62874.088\n",
            "[61,     1] MSE is: 61618.364\n",
            "[62,     1] MSE is: 103380.984\n",
            "[63,     1] MSE is: 47307.296\n",
            "[64,     1] MSE is: 71056.064\n",
            "[65,     1] MSE is: 19296.598\n",
            "[66,     1] MSE is: 37393.896\n",
            "[67,     1] MSE is: 31464.692\n",
            "[68,     1] MSE is: 23448.986\n",
            "[69,     1] MSE is: 45417.364\n",
            "[70,     1] MSE is: 24543.226\n",
            "[71,     1] MSE is: 24026.160\n",
            "[72,     1] MSE is: 26965.372\n",
            "[73,     1] MSE is: 51388.556\n",
            "[74,     1] MSE is: 23167.128\n",
            "[75,     1] MSE is: 39589.560\n",
            "[76,     1] MSE is: 38339.696\n",
            "[77,     1] MSE is: 31772.872\n",
            "[78,     1] MSE is: 29132.730\n",
            "[79,     1] MSE is: 14990.384\n",
            "[80,     1] MSE is: 23132.008\n",
            "[81,     1] MSE is: 30614.656\n",
            "[82,     1] MSE is: 15937.935\n",
            "[83,     1] MSE is: 19907.918\n",
            "[84,     1] MSE is: 18173.698\n",
            "[85,     1] MSE is: 25623.730\n",
            "[86,     1] MSE is: 7989.328\n",
            "[87,     1] MSE is: 11071.064\n",
            "[88,     1] MSE is: 15770.281\n",
            "[89,     1] MSE is: 14073.833\n",
            "[90,     1] MSE is: 12302.831\n",
            "[91,     1] MSE is: 21360.726\n",
            "[92,     1] MSE is: 7660.597\n",
            "[93,     1] MSE is: 10056.460\n",
            "[94,     1] MSE is: 16000.283\n",
            "[95,     1] MSE is: 12286.526\n",
            "[96,     1] MSE is: 7912.105\n",
            "[97,     1] MSE is: 15328.472\n",
            "[98,     1] MSE is: 12346.292\n",
            "[99,     1] MSE is: 10722.444\n",
            "[100,     1] MSE is: 18955.448\n"
          ]
        }
      ],
      "source": [
        "# loop over the dataset multiple times\n",
        "for epoch in range(100):\n",
        "\n",
        "    running_loss = 0.0\n",
        "    for i, (inputs, targets) in enumerate(train_dl):\n",
        "\n",
        "        # clear the gradients\n",
        "        optimizer.zero_grad()\n",
        "        # compute the model output\n",
        "        yhat = model(inputs)\n",
        "        # calculate loss\n",
        "        loss = criterion(yhat.ravel(), targets)\n",
        "\n",
        "        # credit assignment\n",
        "        loss.backward()\n",
        "        # update model weights\n",
        "        optimizer.step()\n",
        "\n",
        "        # print statistics\n",
        "        running_loss += loss.item()\n",
        "        if not i % 5000:    # print every 2000 mini-batches\n",
        "            print('[%d, %5d] MSE is: %.3f' %\n",
        "                  (epoch + 1, i + 1, running_loss / 2000))\n",
        "            running_loss = 0.0"
      ]
    }
  ]
}